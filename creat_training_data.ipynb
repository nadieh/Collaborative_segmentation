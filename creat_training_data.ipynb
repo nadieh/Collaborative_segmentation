{
 "cells": [
  {
   "cell_type": "markdown",
   "id": "0eb51d36",
   "metadata": {
    "tags": []
   },
   "source": [
    "# Create nnUNet data and dataset json\n",
    "---\n"
   ]
  },
  {
   "cell_type": "code",
   "execution_count": 9,
   "id": "e0356171-12c6-44b1-8226-5acfbe58a9d7",
   "metadata": {
    "pycharm": {
     "is_executing": true
    },
    "tags": []
   },
   "outputs": [],
   "source": [
    "from savenifti import convert_2d_image_to_nifti\n",
    "from polygon import convert_polygons_to_annotations, get_tissue_union_from_mask\n",
    "from filepath import convert_path, GenerateJson"
   ]
  },
  {
   "cell_type": "markdown",
   "id": "509a4807",
   "metadata": {},
   "source": [
    "# Libraries"
   ]
  },
  {
   "cell_type": "code",
   "execution_count": 10,
   "id": "5f9e24fe",
   "metadata": {
    "tags": []
   },
   "outputs": [],
   "source": [
    "import os\n",
    "from wholeslidedata.annotation.wholeslideannotation import WholeSlideAnnotation\n",
    "from wholeslidedata.image.wholeslideimage import WholeSlideImage\n",
    "#from wholeslidedata.accessories.asap.parser import AsapAnnotationParser\n",
    "from matplotlib import pyplot as plt\n",
    "from wholeslidedata.samplers.patchlabelsampler import SegmentationPatchLabelSampler\n",
    "from shapely.geometry import Point\n",
    "import numpy as np\n",
    "import pandas as pd\n",
    "import SimpleITK as sitk\n",
    "from wholeslidedata.annotation.utils import cv2_polygonize\n",
    "from shapely import geometry\n",
    "from wholeslidedata.labels import Label\n",
    "from wholeslidedata.annotation.structures import Annotation\n"
   ]
  },
  {
   "cell_type": "code",
   "execution_count": 11,
   "id": "263ca781",
   "metadata": {
    "tags": []
   },
   "outputs": [],
   "source": [
    "# !pip3 install git+https://github.com/DIAGNijmegen/pathology-whole-slide-data@main\n",
    "# !pip3 install --upgrade opencv-python-headless\n",
    "# # # sudo apt update && sudo apt -y upgrade && sudo apt-get install -y openslide-tools\n",
    "# restart kernel\n"
   ]
  },
  {
   "cell_type": "markdown",
   "id": "937205e9",
   "metadata": {},
   "source": [
    "# Data import"
   ]
  },
  {
   "cell_type": "code",
   "execution_count": 12,
   "id": "931f6bb4-ac9a-44b3-aa8b-7eacf934ebb7",
   "metadata": {
    "tags": []
   },
   "outputs": [],
   "source": [
    "import yaml\n",
    "import random\n",
    "import os\n",
    "current_os = \"w\" if os.name == \"nt\" else \"l\"\n",
    "other_os = \"l\" if current_os == \"w\" else \"w\"\n",
    "camelyon_path = convert_path('/data/pathology/projects/pathology-mrifuse/yaml/data_camelyon16.yaml', current_os)\n",
    "with open(camelyon_path, 'r') as f:\n",
    "    yaml = yaml.safe_load(f)\n",
    "root = yaml['path']['root']\n",
    "camelyon = yaml['path']['camelyon16']     \n",
    "train_data = yaml['data']['training']\n",
    "random.seed(10)\n"
   ]
  },
  {
   "cell_type": "markdown",
   "id": "25f44d91",
   "metadata": {},
   "source": [
    "### Colormap ASAP and labels"
   ]
  },
  {
   "cell_type": "code",
   "execution_count": 12,
   "id": "1ac1f20e",
   "metadata": {
    "tags": []
   },
   "outputs": [
    {
     "data": {
      "image/png": "[encoded data removed]",
      "text/plain": [
       "<Figure size 500x500 with 2 Axes>"
      ]
     },
     "metadata": {},
     "output_type": "display_data"
    }
   ],
   "source": [
    "from matplotlib.colors import LinearSegmentedColormap\n",
    "from matplotlib import cm\n",
    "# import pylab as plt\n",
    "\n",
    "colormap = [ [ 0, 0, 0, 0 ], [ 0, 224, 249, 255 ], [ 0, 249, 50, 255 ], [ 174, 249, 0, 255 ], [ 249, 100, 0, 255 ], [ 249, 0, 125, 255 ], [ 149, 0, 249, 255 ], [ 0, 0, 206, 255 ], [ 0, 185, 206, 255 ], [ 0, 206, 41, 255 ], [ 143, 206, 0, 255 ], [ 206, 82, 0, 255 ], [ 206, 0, 103, 255 ], [ 124, 0, 206, 255 ], [ 0, 0, 162, 255 ], [ 0, 145, 162, 255 ], [ 0, 162, 32, 255 ], [ 114, 162, 0, 255 ], [ 162, 65, 0, 255 ], [ 162, 0, 81, 255 ], [ 97, 0, 162, 255 ], [ 0, 0, 119, 255 ], [ 0, 107, 119, 255 ], [ 0, 119, 23, 255 ], [ 83, 119, 0, 255 ], [ 119, 47, 0, 255 ], [ 119, 0, 59, 255 ], [ 71, 0, 119, 255 ], [ 100, 100, 249, 255 ], [ 100, 234, 249, 255 ], [ 100, 249, 129, 255 ], [ 204, 249, 100, 255 ], [ 249, 159, 100, 255 ], [ 249, 100, 174, 255 ], [ 189, 100, 249, 255 ], [ 82, 82, 206, 255 ], [ 82, 193, 206, 255 ], [ 82, 206, 107, 255 ], [ 168, 206, 82, 255 ], [ 206, 131, 82, 255 ], [ 206, 82, 143, 255 ], [ 156, 82, 206, 255 ], [ 65, 65, 162, 255 ], [ 65, 152, 162, 255 ], [ 65, 162, 84, 255 ], [ 132, 162, 65, 255 ], [ 162, 104, 65, 255 ], [ 162, 65, 114, 255 ], [ 123, 65, 162, 255 ], [ 47, 47, 119, 255 ], [ 47, 112, 119, 255 ], [ 47, 119, 61, 255 ], [ 97, 119, 47, 255 ], [ 119, 76, 47, 255 ], [ 119, 47, 83, 255 ], [ 90, 47, 119, 255 ], [ 174, 174, 249, 255 ], [ 174, 242, 249, 255 ], [ 174, 249, 189, 255 ], [ 227, 249, 174, 255 ], [ 249, 204, 174, 255 ], [ 249, 174, 212, 255 ], [ 219, 174, 249, 255 ], [ 143, 143, 206, 255 ], [ 143, 199, 206, 255 ], [ 143, 206, 156, 255 ], [ 187, 206, 143, 255 ], [ 206, 168, 143, 255 ], [ 206, 143, 175, 255 ], [ 181, 143, 206, 255 ], [ 114, 114, 162, 255 ], [ 114, 157, 162, 255 ], [ 114, 162, 123, 255 ], [ 147, 162, 114, 255 ], [ 162, 132, 114, 255 ], [ 162, 114, 137, 255 ], [ 142, 114, 162, 255 ], [ 83, 83, 119, 255 ], [ 83, 115, 119, 255 ], [ 83, 119, 90, 255 ], [ 108, 119, 83, 255 ], [ 119, 97, 83, 255 ], [ 119, 83, 101, 255 ], [ 104, 83, 119, 255 ], [ 224, 224, 249, 255 ], [ 224, 247, 249, 255 ], [ 224, 249, 229, 255 ], [ 242, 249, 224, 255 ], [ 249, 234, 224, 255 ], [ 249, 224, 237, 255 ], [ 239, 224, 249, 255 ], [ 185, 185, 206, 255 ], [ 185, 204, 206, 255 ], [ 185, 206, 189, 255 ], [ 199, 206, 185, 255 ], [ 206, 193, 185, 255 ], [ 206, 185, 195, 255 ], [ 197, 185, 206, 255 ], [ 145, 145, 162, 255 ], [ 145, 160, 162, 255 ], [ 145, 162, 149, 255 ], [ 157, 162, 145, 255 ], [ 162, 152, 145, 255 ], [ 162, 145, 153, 255 ], [ 155, 145, 162, 255 ], [ 107, 107, 119, 255 ], [ 107, 118, 119, 255 ], [ 107, 119, 109, 255 ], [ 115, 119, 107, 255 ], [ 119, 112, 107, 255 ], [ 119, 107, 113, 255 ], [ 114, 107, 119, 255 ], [ 0, 0, 249, 255 ], [ 0, 224, 249, 255 ], [ 0, 249, 50, 255 ], [ 174, 249, 0, 255 ], [ 249, 100, 0, 255 ], [ 249, 0, 125, 255 ], [ 149, 0, 249, 255 ], [ 0, 0, 206, 255 ], [ 0, 185, 206, 255 ], [ 0, 206, 41, 255 ], [ 143, 206, 0, 255 ], [ 206, 82, 0, 255 ], [ 206, 0, 103, 255 ], [ 124, 0, 206, 255 ], [ 0, 0, 162, 255 ], [ 0, 145, 162, 255 ], [ 0, 162, 32, 255 ], [ 114, 162, 0, 255 ], [ 162, 65, 0, 255 ], [ 162, 0, 81, 255 ], [ 97, 0, 162, 255 ], [ 0, 0, 119, 255 ], [ 0, 107, 119, 255 ], [ 0, 119, 23, 255 ], [ 83, 119, 0, 255 ], [ 119, 47, 0, 255 ], [ 119, 0, 59, 255 ], [ 71, 0, 119, 255 ], [ 100, 100, 249, 255 ], [ 100, 234, 249, 255 ], [ 100, 249, 129, 255 ], [ 204, 249, 100, 255 ], [ 249, 159, 100, 255 ], [ 249, 100, 174, 255 ], [ 189, 100, 249, 255 ], [ 82, 82, 206, 255 ], [ 82, 193, 206, 255 ], [ 82, 206, 107, 255 ], [ 168, 206, 82, 255 ], [ 206, 131, 82, 255 ], [ 206, 82, 143, 255 ], [ 156, 82, 206, 255 ], [ 65, 65, 162, 255 ], [ 65, 152, 162, 255 ], [ 65, 162, 84, 255 ], [ 132, 162, 65, 255 ], [ 162, 104, 65, 255 ], [ 162, 65, 114, 255 ], [ 123, 65, 162, 255 ], [ 47, 47, 119, 255 ], [ 47, 112, 119, 255 ], [ 47, 119, 61, 255 ], [ 97, 119, 47, 255 ], [ 119, 76, 47, 255 ], [ 119, 47, 83, 255 ], [ 90, 47, 119, 255 ], [ 174, 174, 249, 255 ], [ 174, 242, 249, 255 ], [ 174, 249, 189, 255 ], [ 227, 249, 174, 255 ], [ 249, 204, 174, 255 ], [ 249, 174, 212, 255 ], [ 219, 174, 249, 255 ], [ 143, 143, 206, 255 ], [ 143, 199, 206, 255 ], [ 143, 206, 156, 255 ], [ 187, 206, 143, 255 ], [ 206, 168, 143, 255 ], [ 206, 143, 175, 255 ], [ 181, 143, 206, 255 ], [ 114, 114, 162, 255 ], [ 114, 157, 162, 255 ], [ 114, 162, 123, 255 ], [ 147, 162, 114, 255 ], [ 162, 132, 114, 255 ], [ 162, 114, 137, 255 ], [ 142, 114, 162, 255 ], [ 83, 83, 119, 255 ], [ 83, 115, 119, 255 ], [ 83, 119, 90, 255 ], [ 108, 119, 83, 255 ], [ 119, 97, 83, 255 ], [ 119, 83, 101, 255 ], [ 104, 83, 119, 255 ], [ 224, 224, 249, 255 ], [ 224, 247, 249, 255 ], [ 224, 249, 229, 255 ], [ 242, 249, 224, 255 ], [ 249, 234, 224, 255 ], [ 249, 224, 237, 255 ], [ 239, 224, 249, 255 ], [ 185, 185, 206, 255 ], [ 185, 204, 206, 255 ], [ 185, 206, 189, 255 ], [ 199, 206, 185, 255 ], [ 206, 193, 185, 255 ], [ 206, 185, 195, 255 ], [ 197, 185, 206, 255 ], [ 145, 145, 162, 255 ], [ 145, 160, 162, 255 ], [ 145, 162, 149, 255 ], [ 157, 162, 145, 255 ], [ 162, 152, 145, 255 ], [ 162, 145, 153, 255 ], [ 155, 145, 162, 255 ], [ 107, 107, 119, 255 ], [ 107, 118, 119, 255 ], [ 107, 119, 109, 255 ], [ 115, 119, 107, 255 ], [ 119, 112, 107, 255 ], [ 119, 107, 113, 255 ], [ 114, 107, 119, 255 ], [ 0, 0, 249, 255 ], [ 0, 224, 249, 255 ], [ 0, 249, 50, 255 ], [ 174, 249, 0, 255 ], [ 249, 100, 0, 255 ], [ 249, 0, 125, 255 ], [ 149, 0, 249, 255 ], [ 0, 0, 206, 255 ], [ 0, 185, 206, 255 ], [ 0, 206, 41, 255 ], [ 143, 206, 0, 255 ], [ 206, 82, 0, 255 ], [ 206, 0, 103, 255 ], [ 124, 0, 206, 255 ], [ 0, 0, 162, 255 ], [ 0, 145, 162, 255 ], [ 0, 162, 32, 255 ], [ 114, 162, 0, 255 ], [ 162, 65, 0, 255 ], [ 162, 0, 81, 255 ], [ 97, 0, 162, 255 ], [ 0, 0, 119, 255 ], [ 0, 107, 119, 255 ], [ 0, 119, 23, 255 ], [ 83, 119, 0, 255 ], [ 119, 47, 0, 255 ], [ 119, 0, 59, 255 ], [ 71, 0, 119, 255 ], [ 100, 100, 249, 255 ], [ 100, 234, 249, 255 ], [ 100, 249, 129, 255 ], [ 0, 249, 50, 255 ] ]\n",
    "colormap = np.array(colormap)/255.\n",
    "cmap = LinearSegmentedColormap.from_list('my_cmap', colors=colormap)\n",
    "\n",
    "label_names = ['Background','Benign','Tumor']\n",
    "label_index = list(range(len(label_names)))\n",
    "n_labels = len(label_names)\n",
    "label_plot_args = {\"cmap\":cmap, \"vmin\":0, \"vmax\":255, \"interpolation\":\"none\"}\n"
   ]
  },
  {
   "cell_type": "markdown",
   "id": "8fb35acc",
   "metadata": {},
   "source": [
    "# Check images and annotations, gather pixel label distribution data for generating splits"
   ]
  },
  {
   "cell_type": "code",
   "execution_count": 13,
   "id": "0ef6ab61-9bd6-44c9-a583-8c0d67828a3e",
   "metadata": {
    "tags": []
   },
   "outputs": [],
   "source": [
    "labels={'Background':0,\n",
    "        'Benign': 1, \n",
    "        'Tumor': 2}"
   ]
  },
  {
   "cell_type": "code",
   "execution_count": 14,
   "id": "117c667e",
   "metadata": {
    "tags": []
   },
   "outputs": [
    {
     "name": "stdout",
     "output_type": "stream",
     "text": [
      "TASK:\t\t Task029_camelyon_uncertainty_10\n",
      "nnUNet ROOT:\t B:\\projects\\pathology-mrifuse\n"
     ]
    }
   ],
   "source": [
    "import os\n",
    "current_os = \"w\" if os.name == \"nt\" else \"l\"\n",
    "other_os = \"l\" if current_os == \"w\" else \"w\"\n",
    "nnUNet_base = r\"B:\\projects\\pathology-mrifuse\"\n",
    "nnUNet_data_root = convert_path(os.path.join(nnUNet_base, \"nnUNet_raw_data\"), current_os)\n",
    "sorted(os.listdir(nnUNet_data_root))\n",
    "task_name = 'Task029_camelyon_uncertainty_10'\n",
    "task_root = os.path.join(nnUNet_data_root, task_name)\n",
    "task_root = convert_path(task_root, current_os)\n",
    "print(\"TASK:\\t\\t\", task_name)\n",
    "nnUNet_base_linux = convert_path(nnUNet_base, to=current_os)\n",
    "print(\"nnUNet ROOT:\\t\", nnUNet_base_linux)\n",
    "image_folder = os.path.join(task_root, \"imagesTr\")\n",
    "image_folder = convert_path(image_folder, current_os)\n",
    "label_folder = os.path.join(task_root, \"labelsTr\")\n",
    "label_folder = convert_path(label_folder, current_os)\n",
    "if not(os.path.isdir(image_folder)):\n",
    "    os.makedirs(image_folder)\n",
    "if not(os.path.isdir(label_folder)):\n",
    "    os.makedirs(label_folder)"
   ]
  },
  {
   "cell_type": "code",
   "execution_count": 2,
   "id": "9ac4227b-2771-4e6c-9aec-76b36b8118ce",
   "metadata": {
    "tags": []
   },
   "outputs": [
    {
     "ename": "NameError",
     "evalue": "name 'train_data' is not defined",
     "output_type": "error",
     "traceback": [
      "\u001b[1;31m---------------------------------------------------------------------------\u001b[0m",
      "\u001b[1;31mNameError\u001b[0m                                 Traceback (most recent call last)",
      "Cell \u001b[1;32mIn[2], line 16\u001b[0m\n\u001b[0;32m     14\u001b[0m total_sample \u001b[38;5;241m=\u001b[39m \u001b[38;5;241m0\u001b[39m\n\u001b[0;32m     15\u001b[0m \u001b[38;5;28;01mfor\u001b[39;00m cancer \u001b[38;5;129;01min\u001b[39;00m cancer_list:\n\u001b[1;32m---> 16\u001b[0m     path \u001b[38;5;241m=\u001b[39m \u001b[43mtrain_data\u001b[49m[\u001b[38;5;124m'\u001b[39m\u001b[38;5;132;01m{}\u001b[39;00m\u001b[38;5;124m/breast/\u001b[39m\u001b[38;5;132;01m{}\u001b[39;00m\u001b[38;5;124m'\u001b[39m\u001b[38;5;241m.\u001b[39mformat(cancer, center)]\n\u001b[0;32m     17\u001b[0m     \u001b[38;5;28;01mfor\u001b[39;00m i \u001b[38;5;129;01min\u001b[39;00m path:\n\u001b[0;32m     18\u001b[0m         image \u001b[38;5;241m=\u001b[39m convert_path(i[\u001b[38;5;124m'\u001b[39m\u001b[38;5;124mimage\u001b[39m\u001b[38;5;124m'\u001b[39m]\u001b[38;5;241m.\u001b[39mformat(root\u001b[38;5;241m=\u001b[39m\u001b[38;5;124m'\u001b[39m\u001b[38;5;124m/data/pathology\u001b[39m\u001b[38;5;124m'\u001b[39m,camelyon16\u001b[38;5;241m=\u001b[39mcamelyon), to \u001b[38;5;241m=\u001b[39m current_os)  \n",
      "\u001b[1;31mNameError\u001b[0m: name 'train_data' is not defined"
     ]
    }
   ],
   "source": [
    "from shapely.geometry import Point, Polygon\n",
    "patch_size = (1024,1024)\n",
    "patch_size = (1024,1024)\n",
    "#sample every 100 pixel\n",
    "sample_rate = patch_size[0]*patch_size[1]\n",
    "plot = False\n",
    "contrast_value = 20000 #remove white patch--- masks are bad quality\n",
    "save = True\n",
    "spacing = 1\n",
    "# 'rst', 'umcu','rumc', 'lpon','cwz'\n",
    "center_list = ['rumc', 'c']\n",
    "cancer_list = [ 'macro']\n",
    "# counts_wsi = np.zeros(n_labels)\n",
    "for center in center_list:\n",
    "    total_sample = 0\n",
    "    for cancer in cancer_list:\n",
    "        path = train_data['{}/breast/{}'.format(cancer, center)]\n",
    "        for i in path:\n",
    "            image = convert_path(i['image'].format(root='/data/pathology',camelyon16=camelyon), to = current_os)  \n",
    "            mask = convert_path(i['mask'].format(root='/data/pathology',camelyon16=camelyon), to = current_os)\n",
    "            filename = os.path.basename(image)[:-4]\n",
    "            s = os.path.split(image)[-1].split(\".\")[-2]\n",
    "\n",
    "            wsi = WholeSlideImage(image, backend=\"asap\")\n",
    "            wsi_mask = WholeSlideImage(mask, backend=\"asap\")\n",
    "            tissues = get_tissue_union_from_mask(wsi_mask, wsi,spacing,value = 1)\n",
    "            \n",
    "            for i, tissue in enumerate(tissues):\n",
    "                if tissue.area<10*sample_rate:\n",
    "                    continue               \n",
    "                negative_sample_size = tissue.area/sample_rate\n",
    "                # Define a polygon\n",
    "                polygon = Polygon([(0, 0), (0, 1), (1, 1), (1, 0)])\n",
    "\n",
    "                # Define a point\n",
    "                if negative_sample_size>10:\n",
    "                    negative_sample_size = 10\n",
    "                total_sample =total_sample + negative_sample_size\n",
    "                for sample in range(int(negative_sample_size)):\n",
    "                    point = Point(0, 0)\n",
    "\n",
    "                    while not(tissue.contains(point)):\n",
    "                        random_center_x = random.randint(int(np.min(tissue.coordinates[:,0])),int(np.max(tissue.coordinates[:,0])))\n",
    "                        random_center_y = random.randint(int(np.min(tissue.coordinates[:,1])),int(np.max(tissue.coordinates[:,1])))\n",
    "                        point = Point(random_center_x, random_center_y)\n",
    "\n",
    "                    image_patch = wsi.get_patch(random_center_x,random_center_y, patch_size[0], patch_size[1], spacing)\n",
    "                    mask_patch = wsi_mask.get_patch(random_center_x,random_center_y, patch_size[0], patch_size[1], spacing)\n",
    "                    output_filename = filename+ '_{}'.format(i)+'_{}_1'.format(sample)\n",
    "                    vals = image_patch.flatten\n",
    "                    # calculate histogram\n",
    "                    counts, bins = np.histogram(image_patch, range(255))\n",
    "                    contrast = np.sum(counts)\n",
    "                    if contrast<contrast_value:\n",
    "                        continue\n",
    "                    if save:\n",
    "                        convert_2d_image_to_nifti(image_patch, os.path.join(image_folder, output_filename))\n",
    "                        convert_2d_image_to_nifti(mask_patch, os.path.join(label_folder, output_filename), is_seg=True)   \n",
    "                    if plot:\n",
    "                        ratio = [14, 2]\n",
    "                        fig, axs = plt.subplots(1,4,figsize=(15,4),gridspec_kw={'width_ratios': [ratio[0], ratio[0], ratio[0], ratio[-1]]})\n",
    "                        fig.suptitle(s+\"_ROI\"+str(sample), fontsize=15)\n",
    "\n",
    "                        # ROI\n",
    "                        axs[0].imshow(image_patch, **label_plot_args)\n",
    "                        axs[0].axis('off')\n",
    "                        axs[0].set_title(\"ROI\")\n",
    "\n",
    "                        # Ground truth tissue\n",
    "                        axs[1].imshow(mask_patch) \n",
    "                        axs[1].axis('off')\n",
    "                        axs[1].set_title(\"Ground truth tissue\")\n",
    "\n",
    "                        # Overlay\n",
    "                        axs[2].imshow(image_patch)\n",
    "                        axs[2].imshow(mask_patch, alpha=0.5, **label_plot_args) \n",
    "                        axs[2].axis('off')\n",
    "                        axs[2].set_title(\"Overlay\")\n",
    "\n",
    "                        # Labels                \n",
    "                        axs[3].imshow([[i] for i in list(range(len(label_index)))], **label_plot_args)\n",
    "                        axs[3].set_yticks(label_index) #, rotation=0, ha=\"right\", rotation_mode=\"anchor\")\n",
    "                        axs[3].set_yticklabels(label_names)\n",
    "                        axs[3].yaxis.tick_right()\n",
    "                        axs[3].get_xaxis().set_visible(False)\n",
    "                        axs[3].set_title(\"Labels\")\n",
    "\n",
    "                        plt.tight_layout()\n",
    "                        plt.show()\n",
    "                        \n"
   ]
  },
  {
   "cell_type": "code",
   "execution_count": 3,
   "id": "a23cb874-94e5-4502-b6ba-8a0da3510527",
   "metadata": {
    "tags": []
   },
   "outputs": [
    {
     "ename": "NameError",
     "evalue": "name 'random' is not defined",
     "output_type": "error",
     "traceback": [
      "\u001b[1;31m---------------------------------------------------------------------------\u001b[0m",
      "\u001b[1;31mNameError\u001b[0m                                 Traceback (most recent call last)",
      "Cell \u001b[1;32mIn[3], line 2\u001b[0m\n\u001b[0;32m      1\u001b[0m \u001b[38;5;28;01mimport\u001b[39;00m \u001b[38;5;21;01mmath\u001b[39;00m\n\u001b[1;32m----> 2\u001b[0m \u001b[43mrandom\u001b[49m\u001b[38;5;241m.\u001b[39mseed(\u001b[38;5;241m10\u001b[39m)\n\u001b[0;32m      3\u001b[0m patch_size \u001b[38;5;241m=\u001b[39m (\u001b[38;5;241m1024\u001b[39m,\u001b[38;5;241m1024\u001b[39m)\n\u001b[0;32m      4\u001b[0m \u001b[38;5;66;03m#sample every 100 pixel\u001b[39;00m\n",
      "\u001b[1;31mNameError\u001b[0m: name 'random' is not defined"
     ]
    }
   ],
   "source": [
    "import math\n",
    "sample_rate = patch_size[0]*patch_size[1]\n",
    "spacing = 1\n",
    "contrast_value = 20000 #remove white patch--- masks are bad quality\n",
    "plot = False\n",
    "# 'rst', 'umcu',,'rumc', 'lpon'\n",
    "center_list = ['rst', 'umcu',,'rumc', 'lpon']\n",
    "cancer_type = ['macro', 'micro', 'itc' ]\n",
    "save = True\n",
    "# counts_wsi = np.zeros(n_labels)\n",
    "for center in center_list:\n",
    "    dic_sample = {}\n",
    "    for cancer in cancer_type:\n",
    "        path = train_data['{}/breast/{}'.format(cancer, center)]\n",
    "        for i in path[-15:]:\n",
    "            image = i['image'].format(root='/data/pathology',camelyon16=camelyon)  \n",
    "            mask = i['mask'].format(root='/data/pathology',camelyon16=camelyon) \n",
    "            annotation_path = '/data/pathology/archives/breast/camelyon/CAMELYON16/annotations/{}'\n",
    "            filename = os.path.basename(image)[:-4]\n",
    "            a = annotation_path.format(filename+'.xml')\n",
    "            s = os.path.split(a)[-1].split(\".\")[-2]\n",
    "            wsi = WholeSlideImage(image, backend=\"asap\")\n",
    "            wsi_mask = WholeSlideImage(mask, backend=\"asap\")\n",
    "            tissues = get_tissue_union_from_mask(wsi_mask, wsi, spacing, value = 2)\n",
    "            wsa = WholeSlideAnnotation(a)\n",
    "            for idx, tissue in enumerate(tissues):\n",
    "               \n",
    "                tumore_sample_size = tissue.area/(sample_rate/10)            \n",
    "                if tumore_sample_size<1:\n",
    "                    tumore_sample_size = 5\n",
    "                if tumore_sample_size>25:\n",
    "                    tumore_sample_size = 25\n",
    "                print('sample size', cancer, tumore_sample_size)\n",
    "                for sample in range(math.ceil(tumore_sample_size)):\n",
    "                    point = Point(0, 0)\n",
    "                    while not(tissue.contains(point)):\n",
    "                        random_center_x = random.randint(int(np.min(tissue.coordinates[:,0]))-patch_size[0],int(np.max(tissue.coordinates[:,0]))+patch_size[0])\n",
    "                        random_center_y = random.randint(int(np.min(tissue.coordinates[:,1]))-patch_size[0],int(np.max(tissue.coordinates[:,1]))+patch_size[0])\n",
    "                        point = Point(random_center_x, random_center_y)\n",
    "\n",
    "                    ### GET MASK\n",
    "                    #mask_patch = label_sampler.sample(wsa, Point(random_center_x,random_center_y), size = patch_size, ratio= 2) \n",
    "    \n",
    "                    image_patch = wsi.get_patch(random_center_x,random_center_y,\n",
    "                                                patch_size[0], patch_size[1], spacing)\n",
    "\n",
    "                    mask_patch = wsi_mask.get_patch(random_center_x,random_center_y,\n",
    "                                                patch_size[0], patch_size[1], spacing)\n",
    "                    counts, bins = np.histogram(image_patch, range(255))\n",
    "                    contrast = np.sum(counts)\n",
    "                    print(contrast)\n",
    "                    if contrast<contrast_value:\n",
    "                        continue          \n",
    "                    output_filename = filename+ '_{}'.format(idx)+'_{}'.format(sample)\n",
    "                    if save:\n",
    "                        convert_2d_image_to_nifti(image_patch, os.path.join(image_folder, output_filename))\n",
    "                        convert_2d_image_to_nifti(mask_patch, os.path.join(label_folder, output_filename), is_seg=True)\n",
    "\n",
    "\n",
    "                        ######### FIGURE 1 #########           \n",
    "                    if plot: \n",
    "                        ratio = [14, 2]\n",
    "                        fig, axs = plt.subplots(1,4,figsize=(15,4),gridspec_kw={'width_ratios': [ratio[0], ratio[0], ratio[0], ratio[-1]]})\n",
    "                        fig.suptitle(s+\"_ROI\"+str(idx), fontsize=15)\n",
    "\n",
    "                        # ROI\n",
    "                        axs[0].imshow(image_patch, **label_plot_args)\n",
    "                        axs[0].axis('off')\n",
    "                        axs[0].set_title(\"ROI\")\n",
    "\n",
    "                        # Ground truth tissue\n",
    "                        axs[1].imshow(mask_patch) \n",
    "                        axs[1].axis('off')\n",
    "                        axs[1].set_title(\"Ground truth tissue\")\n",
    "\n",
    "                        # Overlay\n",
    "                        axs[2].imshow(image_patch)\n",
    "                        axs[2].imshow(mask_patch, alpha=0.5, **label_plot_args) \n",
    "                        axs[2].axis('off')\n",
    "                        axs[2].set_title(\"Overlay\")\n",
    "\n",
    "                        # Labels                \n",
    "                        axs[3].imshow([[i] for i in list(range(len(label_index)))], **label_plot_args)\n",
    "                        axs[3].set_yticks(label_index) #, rotation=0, ha=\"right\", rotation_mode=\"anchor\")\n",
    "                        axs[3].set_yticklabels(label_names)\n",
    "                        axs[3].yaxis.tick_right()\n",
    "                        axs[3].get_xaxis().set_visible(False)\n",
    "                        axs[3].set_title(\"Labels\")\n",
    "\n",
    "                        plt.tight_layout()\n",
    "                        plt.show()\n"
   ]
  },
  {
   "cell_type": "markdown",
   "id": "f3815e90",
   "metadata": {},
   "source": [
    "Change Task name here for a new project:"
   ]
  },
  {
   "cell_type": "markdown",
   "id": "eaaa1072",
   "metadata": {
    "tags": []
   },
   "source": [
    "# Create dataset json"
   ]
  },
  {
   "cell_type": "markdown",
   "id": "b412e515",
   "metadata": {},
   "source": [
    "### Make dataset json"
   ]
  },
  {
   "cell_type": "code",
   "execution_count": null,
   "id": "34030292",
   "metadata": {
    "tags": []
   },
   "outputs": [],
   "source": [
    "dataset_path = task_root\n",
    "GenerateJson(dataset_path)"
   ]
  },
  {
   "cell_type": "markdown",
   "id": "40d03d5d",
   "metadata": {},
   "source": [
    "# Run nnUNet TRAIN job"
   ]
  },
  {
   "cell_type": "code",
   "execution_count": 15,
   "id": "6d4e1feb",
   "metadata": {
    "tags": []
   },
   "outputs": [
    {
     "name": "stdout",
     "output_type": "stream",
     "text": [
      "TASK:\t\t Task029_camelyon_uncertainty_10\n",
      "nnUNet ROOT:\t B:\\projects\\pathology-mrifuse\n"
     ]
    }
   ],
   "source": [
    "print(\"TASK:\\t\\t\", task_name)\n",
    "# nnUNet_base_linux = convert_path(nnUNet_base, to=\"linux\")\n",
    "print(\"nnUNet ROOT:\\t\", nnUNet_base_linux)"
   ]
  },
  {
   "cell_type": "markdown",
   "id": "9307c2fb-25ef-4bbe-887b-c0c013b15c70",
   "metadata": {
    "tags": []
   },
   "source": [
    "## Set docker, trainer, and experiment planner"
   ]
  },
  {
   "cell_type": "code",
   "execution_count": 16,
   "id": "09cb7590-8b06-45c6-86ed-c382224d1b3b",
   "metadata": {
    "tags": []
   },
   "outputs": [],
   "source": [
    "docker = ''\n",
    "\n",
    "# trainer_name = 'nnUNetTrainerV2' #default\n",
    "trainer_name = 'nnUNetTrainerV2_BN'\n",
    "#trainer_name = 'nnUNetTrainerV2_BN_pathology_DA_hed005'\n",
    "# trainer_name = 'nnUNetTrainerV2_BN_pathology_DA_hed005_hsv010'\n",
    "\n",
    "# experiment_planner = 'ExperimentPlanner2D_v21_RGB_z_score_default' # this is a compatibility wrapper of the default\n",
    "# experiment_planner = 'ExperimentPlanner2D_v21_RGB_z_score_default_bs2_ps1024'\n",
    "# experiment_planner = 'ExperimentPlanner2D_v21_RGB_scaleTo_0_1'\n",
    "# experiment_planner = 'ExperimentPlanner2D_v21_RGB_scaleTo_0_1_bs2_ps1024'\n",
    "experiment_planner = 'ExperimentPlanner2D_v21_RGB_scaleTo_0_1_bs8_ps512'\n",
    "# experiment_planner = 'ExperimentPlanner2D_v21_RGB_scaleTo_0_1_bs32_ps256'\n",
    "\n",
    "# experiment_planner_identifier = 'nnUNet_RGB_z_score_default'# this is a compatibility wrapper of the default\n",
    "# experiment_planner_identifier = 'nnUNet_RGB_z_score_default_bs2_ps1024' # this is a compatibility wrapper of the default\n",
    "# experiment_planner_identifier = 'nnUNet_RGB_scaleTo_0_1'\n",
    "# experiment_planner_identifier = 'nnUNet_RGB_scaleTo_0_1_bs2_ps1024'\n",
    "experiment_planner_identifier = 'nnUNet_RGB_scaleTo_0_1_bs8_ps512'\n",
    "# experiment_planner_identifier = 'nnUNet_RGB_scaleTo_0_1_bs32_ps256'"
   ]
  },
  {
   "cell_type": "markdown",
   "id": "4213752f-789f-42c1-9965-63e70568b010",
   "metadata": {},
   "source": [
    "WE NOW NEED A DIFFERENT PLANNER, FOR SCALING BETWEEN 0 AND 1 INSTEAD OF ZSCORE"
   ]
  },
  {
   "cell_type": "code",
   "execution_count": 18,
   "id": "6dab11d2-6341-4cb1-9089-d6484026aa7e",
   "metadata": {
    "tags": []
   },
   "outputs": [],
   "source": [
    "train_command = f\"~/c-submit --require-cpus=9 --require-mem=28g --gpu-count=1 \\\n",
    "--require-gpu-mem=11g --priority=low nadiehkhalili 9974 168 \\\n",
    "{docker} nnunet plan_train \\\n",
    "{task_name} \\\n",
    "{nnUNet_base_linux} \\\n",
    "--network 2d --planner3d None --planner2d {experiment_planner} --plans {experiment_planner_identifier} \\\n",
    "--trainer {trainer_name} --fold 0\"\n"
   ]
  },
  {
   "cell_type": "code",
   "execution_count": 19,
   "id": "677bbd27-c237-442b-af05-a4362200e078",
   "metadata": {
    "tags": []
   },
   "outputs": [
    {
     "data": {
      "text/plain": [
       "'~/c-submit --require-cpus=9 --require-mem=28g --gpu-count=1 --require-gpu-mem=11g --priority=low nadiehkhalili 9974 168 doduo1.umcn.nl/pathology_lung_til/nnunet:9.4-midl2023 nnunet plan_train --plan_only Task029_camelyon_uncertainty_10 B:\\\\projects\\\\pathology-mrifuse --network 2d --planner3d None --planner2d ExperimentPlanner2D_v21_RGB_scaleTo_0_1_bs8_ps512 --plans nnUNet_RGB_scaleTo_0_1_bs8_ps512 --trainer nnUNetTrainerV2_BN --fold 0'"
      ]
     },
     "execution_count": 19,
     "metadata": {},
     "output_type": "execute_result"
    }
   ],
   "source": [
    "train_command"
   ]
  },
  {
   "cell_type": "markdown",
   "id": "c19bd0c8-0e64-4e4e-b000-2e39f158821e",
   "metadata": {},
   "source": [
    "check and set to true"
   ]
  },
  {
   "cell_type": "markdown",
   "id": "41151fc9-e5ba-4b23-8183-053b18b29d9b",
   "metadata": {},
   "source": [
    "## Manually set data splits"
   ]
  },
  {
   "cell_type": "code",
   "execution_count": 45,
   "id": "0125cecc-bafb-4dd4-8cdf-ba878d592722",
   "metadata": {
    "tags": []
   },
   "outputs": [],
   "source": [
    "data_split_json_path = os.path.join(preprocessed_ROOT, task_name, \"splits_final.json\")\n",
    "data_split_pkl_path = os.path.join(preprocessed_ROOT, task_name, \"splits_final.pkl\")"
   ]
  },
  {
   "cell_type": "code",
   "execution_count": null,
   "id": "3baafbbb-01f5-44c1-8c41-3f6395359066",
   "metadata": {},
   "outputs": [],
   "source": [
    "import json \n",
    "with open(data_split_json_path, \"w\") as fp:\n",
    "    json.dump(fp=fp, obj=data_split_json)\n",
    "    save_pickle(data_split_json, data_split_pkl_path)"
   ]
  },
  {
   "cell_type": "markdown",
   "id": "409303ab",
   "metadata": {},
   "source": [
    "### Copy output below\n",
    "remember to run all 5 folds. You can also train a single model on all training data by using --fold all"
   ]
  },
  {
   "cell_type": "code",
   "execution_count": 44,
   "id": "c87cdde2-8b3e-4c48-a1c5-84f8d45bc606",
   "metadata": {
    "tags": []
   },
   "outputs": [
    {
     "data": {
      "text/plain": [
       "'~/c-submit --require-cpus=9 --require-mem=28g --gpu-count=1 --require-gpu-mem=11g --node=dlc-ditto --priority=high nadiehkhalili 9974 168 doduo1.umcn.nl/pathology_lung_til/nnunet:9.4-midl2023 nnunet plan_train Task029_camelyon_uncertainty_10 B:\\\\projects\\\\pathology-mrifuse --network 2d --planner3d None --planner2d ExperimentPlanner2D_v21_RGB_scaleTo_0_1_bs8_ps512 --plans nnUNet_RGB_scaleTo_0_1_bs8_ps512 --trainer nnUNetTrainerV2_BN --fold 0'"
      ]
     },
     "execution_count": 44,
     "metadata": {},
     "output_type": "execute_result"
    }
   ],
   "source": [
    "train_command = f\"nnunet plan_train\n",
    "{docker} nnunet plan_train \\\n",
    "{task_name} \\\n",
    "{nnUNet_base_linux} \\\n",
    "--network 2d --planner3d None --planner2d {experiment_planner} --plans {experiment_planner_identifier} \\\n",
    "--trainer {trainer_name} --fold 0\"\n",
    "train_command\n"
   ]
  },
  {
   "cell_type": "code",
   "execution_count": null,
   "id": "ca9eb9c9-672c-4704-b01f-4902c746d09f",
   "metadata": {},
   "outputs": [],
   "source": [
    "image_anno_test = \n",
    "complete_counts_total = np.zeros(n_labels)\n",
    "for (i, a) in image_anno_test:\n",
    "    wsi = WholeSlideImage(i, backend='asap')\n",
    "    wsa = WholeSlideAnnotation(a, parser=parser)\n",
    "    s = os.path.split(a)[-1].split(\".\")[-2]\n",
    "    print(s)\n",
    "    for idx, anno in enumerate(wsa.sampling_annotations):\n",
    "        roi_patch = wsi.get_annotation(anno, 0.5)\n",
    "        print(list(reversed(roi_patch.shape[:2])))\n",
    "        mask_patch = label_sampler.sample(wsa, Point(anno.center), reversed(roi_patch.shape[:2]), ratio=2)\n",
    "        # if s == \"11445\":\n",
    "        #     mask_patch = label_sampler.sample(wsa, Point(anno.center), reversed(roi_patch.shape[:2]), ratio=1)\n",
    "\n",
    "        ######### FIGURE 1 #########           \n",
    "        ratio = [14, 1]\n",
    "        fig, axs = plt.subplots(1,4,figsize=(15,4),\n",
    "#                                     gridspec_kw={'width_ratios': [ratio[0], ratio[1], ratio[2]]})\n",
    "                                gridspec_kw={'width_ratios': [ratio[0], ratio[0], ratio[0], ratio[-1]]})\n",
    "        fig.suptitle(s+\"_ROI\"+str(idx), fontsize=15)\n",
    "\n",
    "        # ROI\n",
    "        axs[0].imshow(roi_patch)\n",
    "        axs[0].axis('off')\n",
    "        axs[0].set_title(\"ROI\")\n",
    "\n",
    "        # Ground truth tissue\n",
    "        axs[1].imshow(mask_patch, \n",
    "                        vmin=0, vmax=255, cmap=cmap, interpolation='nearest') \n",
    "        axs[1].axis('off')\n",
    "        axs[1].set_title(\"Ground truth tissue\")\n",
    "\n",
    "        # Overlay\n",
    "        axs[2].imshow(roi_patch)\n",
    "        axs[2].imshow(mask_patch, \n",
    "                        vmin=0, vmax=255, cmap=cmap, interpolation='nearest', alpha=0.5) \n",
    "        axs[2].axis('off')\n",
    "        axs[2].set_title(\"Overlay\")\n",
    "\n",
    "        # Labels                \n",
    "        axs[3].imshow([[i] for i in range(len(label_index))], \n",
    "                        vmin=0, vmax=255, cmap=cmap, interpolation='nearest')\n",
    "        axs[3].set_yticks(label_index) #, rotation=0, ha=\"right\", rotation_mode=\"anchor\")\n",
    "        axs[3].set_yticklabels(label_names)\n",
    "        axs[3].yaxis.tick_right()\n",
    "        axs[3].get_xaxis().set_visible(False)\n",
    "        axs[3].set_title(\"Labels\")\n",
    "\n",
    "        plt.tight_layout()\n",
    "        plt.show()\n",
    "\n",
    "        \n",
    "#         ######### FIGURE 2 #########   \n",
    "#         complete_counts = add_zero_classes(*np.unique(mask_patch, return_counts=True))\n",
    "        \n",
    "#         fig, axs = plt.subplots(1,1, figsize=(5,5))\n",
    "#         bar_list = axs.barh(label_names, complete_counts, height=1) #, height=0.95, log=True)\n",
    "#         for i, bar in enumerate(bar_list):\n",
    "#             bar.set_color(cmap(label_index[i]))\n",
    "#             bar.set_edgecolor(\"black\")\n",
    "#         axs.invert_yaxis()\n",
    "#         axs.set_title(\"Pixels per label total (x 100 000)\")\n",
    "#         for i in range(n_labels):\n",
    "#             plt.text(complete_counts[i], i, s=\" \" + str(round(complete_counts[i]/100000, 2)) if complete_counts[i] !=0.0 else \"\", \n",
    "#                      ha=\"left\", va=\"center\")\n",
    "#         axs.set_xlim(0, axs.get_xlim()[1] + axs.get_xlim()[1]*0.1)\n",
    "#         plt.ticklabel_format(style='sci', axis='x', scilimits=(0,0))\n",
    "#         plt.tight_layout()\n",
    "#         plt.show()\n",
    "        \n",
    "#         complete_counts_total += complete_counts\n",
    "\n",
    "# ######### FIGURE 3 #########  \n",
    "# print(\"Total\")\n",
    "# sum_total = sum(complete_counts_total)\n",
    "# percentages_total = [round((count/sum_total)*100,1) for count in complete_counts_total]\n",
    "# fig, axs = plt.subplots(1,1, figsize=(5,5))\n",
    "# bar_list = axs.barh(label_names, percentages_total, height=1) #, height=0.95, log=True)\n",
    "# for i, bar in enumerate(bar_list):\n",
    "#     bar.set_color(cmap(label_index[i]))\n",
    "#     bar.set_edgecolor(\"black\")\n",
    "# axs.invert_yaxis()\n",
    "# axs.set_title(\"Percentage of total per label\")\n",
    "# for i in range(n_labels):\n",
    "#     plt.text(percentages_total[i], i, s=\" \" + str(percentages_total[i]), \n",
    "#              ha=\"left\", va=\"center\")\n",
    "# axs.set_xlim(0, axs.get_xlim()[1] + axs.get_xlim()[1]*0.1)\n",
    "# plt.tight_layout()\n",
    "# plt.show()\n",
    "\n",
    "# #         plt.imshow(roi_patch)\n",
    "# #         plt.show()\n",
    "# #         plt.imshow(mask_patch, vmin=0, vmax=13, cmap=\"gnuplot\") \n",
    "# #         plt.show()    \n",
    "# print(\"DONE\")"
   ]
  },
  {
   "cell_type": "code",
   "execution_count": null,
   "id": "5a22f35e",
   "metadata": {},
   "outputs": [],
   "source": [
    "# for idx, (i, a) in enumerate(image_anno_test):\n",
    "#     wsi = WholeSlideImage(i)\n",
    "#     wsa = WholeSlideAnnotation(a, parser=parser)\n",
    "#     s = os.path.split(a)[-1].split(\".\")[-2]\n",
    "#     print(s) # s=stem\n",
    "#     for anno in wsa.sampling_annotations:\n",
    "#         roi_patch = wsi.get_annotation(anno, 0.5)\n",
    "#         print(list(reversed(roi_patch.shape[:2])))\n",
    "#         mask_patch = label_sampler.sample(wsa, Point(anno.center), reversed(roi_patch.shape[:2]), ratio=2)\n",
    "#         if s == \"11445\":\n",
    "#             mask_patch = label_sampler.sample(wsa, Point(anno.center), reversed(roi_patch.shape[:2]), ratio=1)\n",
    "\n",
    "#         plt.imshow(roi_patch)\n",
    "#         plt.show()\n",
    "#         plt.imshow(mask_patch, vmin=0, vmax=13, cmap=\"gnuplot\") \n",
    "#         plt.show()    \n",
    "# print(\"DONE\")"
   ]
  }
 ],
 "metadata": {
  "kernelspec": {
   "display_name": "Python 3 (ipykernel)",
   "language": "python",
   "name": "python3"
  },
  "language_info": {
   "codemirror_mode": {
    "name": "ipython",
    "version": 3
   },
   "file_extension": ".py",
   "mimetype": "text/x-python",
   "name": "python",
   "nbconvert_exporter": "python",
   "pygments_lexer": "ipython3",
   "version": "3.9.0"
  }
 },
 "nbformat": 4,
 "nbformat_minor": 5
}
