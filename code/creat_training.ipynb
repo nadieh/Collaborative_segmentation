{
 "cells": [
  {
   "cell_type": "markdown",
   "id": "0eb51d36",
   "metadata": {},
   "source": [
    "# Create nnUNet data and dataset json\n",
    "---\n"
   ]
  },
  {
   "cell_type": "markdown",
   "id": "509a4807",
   "metadata": {},
   "source": [
    "# Libraries"
   ]
  },
  {
   "cell_type": "code",
   "execution_count": 8,
   "id": "5f9e24fe",
   "metadata": {
    "tags": []
   },
   "outputs": [],
   "source": [
    "from savenifti import convert_2d_image_to_nifti\n",
    "from polygon import convert_polygons_to_annotations, get_tissue_union_from_mask\n",
    "from filepath import convert_path, GenerateJson\n",
    "import os\n",
    "from wholeslidedata.annotation.wholeslideannotation import WholeSlideAnnotation\n",
    "from wholeslidedata.image.wholeslideimage import WholeSlideImage\n",
    "#from wholeslidedata.accessories.asap.parser import AsapAnnotationParser\n",
    "from matplotlib import pyplot as plt\n",
    "from wholeslidedata.samplers.patchlabelsampler import SegmentationPatchLabelSampler\n",
    "from shapely.geometry import Point\n",
    "import numpy as np\n",
    "import pandas as pd\n",
    "import SimpleITK as sitk\n",
    "from wholeslidedata.annotation.utils import cv2_polygonize\n",
    "from shapely import geometry\n",
    "from wholeslidedata.labels import Label\n",
    "from wholeslidedata.annotation.structures import Annotation\n",
    "import yaml\n",
    "import random\n"
   ]
  },
  {
   "cell_type": "code",
   "execution_count": 3,
   "id": "263ca781",
   "metadata": {
    "tags": []
   },
   "outputs": [],
   "source": [
    "# !pip3 install git+https://github.com/DIAGNijmegen/pathology-whole-slide-data@main\n",
    "# !pip3 install --upgrade opencv-python-headless\n",
    "# # # sudo apt update && sudo apt -y upgrade && sudo apt-get install -y openslide-tools\n",
    "# restart kernel"
   ]
  },
  {
   "cell_type": "markdown",
   "id": "937205e9",
   "metadata": {},
   "source": [
    "# Data import"
   ]
  },
  {
   "cell_type": "code",
   "execution_count": 5,
   "id": "931f6bb4-ac9a-44b3-aa8b-7eacf934ebb7",
   "metadata": {
    "tags": []
   },
   "outputs": [],
   "source": [
    "current_os = \"w\" if os.name == \"nt\" else \"l\"\n",
    "other_os = \"l\" if current_os == \"w\" else \"w\"\n",
    "camelyon_path = convert_path('directory_to_yaml_file/data_camelyon17.yaml', current_os)\n",
    "with open(camelyon_path, 'r') as f:\n",
    "    yaml = yaml.safe_load(f)\n",
    "root = yaml['path']['root']\n",
    "camelyon = yaml['path']['camelyon17']     \n",
    "train_data = yaml['data']['training']\n"
   ]
  },
  {
   "cell_type": "markdown",
   "id": "46c649e3",
   "metadata": {},
   "source": [
    "### Whole Slide Data"
   ]
  },
  {
   "cell_type": "markdown",
   "id": "25f44d91",
   "metadata": {},
   "source": [
    "### Colormap ASAP and labels"
   ]
  },
  {
   "cell_type": "code",
   "execution_count": 6,
   "id": "1ac1f20e",
   "metadata": {
    "tags": []
   },
   "outputs": [],
   "source": [
    "from matplotlib.colors import LinearSegmentedColormap\n",
    "from matplotlib import cm\n",
    "# import pylab as plt\n",
    "\n",
    "colormap = [ [ 0, 0, 0, 0 ], [ 0, 224, 249, 255 ], [ 0, 249, 50, 255 ], [ 174, 249, 0, 255 ], [ 249, 100, 0, 255 ], [ 249, 0, 125, 255 ], [ 149, 0, 249, 255 ], [ 0, 0, 206, 255 ], [ 0, 185, 206, 255 ], [ 0, 206, 41, 255 ], [ 143, 206, 0, 255 ], [ 206, 82, 0, 255 ], [ 206, 0, 103, 255 ], [ 124, 0, 206, 255 ], [ 0, 0, 162, 255 ], [ 0, 145, 162, 255 ], [ 0, 162, 32, 255 ], [ 114, 162, 0, 255 ], [ 162, 65, 0, 255 ], [ 162, 0, 81, 255 ], [ 97, 0, 162, 255 ], [ 0, 0, 119, 255 ], [ 0, 107, 119, 255 ], [ 0, 119, 23, 255 ], [ 83, 119, 0, 255 ], [ 119, 47, 0, 255 ], [ 119, 0, 59, 255 ], [ 71, 0, 119, 255 ], [ 100, 100, 249, 255 ], [ 100, 234, 249, 255 ], [ 100, 249, 129, 255 ], [ 204, 249, 100, 255 ], [ 249, 159, 100, 255 ], [ 249, 100, 174, 255 ], [ 189, 100, 249, 255 ], [ 82, 82, 206, 255 ], [ 82, 193, 206, 255 ], [ 82, 206, 107, 255 ], [ 168, 206, 82, 255 ], [ 206, 131, 82, 255 ], [ 206, 82, 143, 255 ], [ 156, 82, 206, 255 ], [ 65, 65, 162, 255 ], [ 65, 152, 162, 255 ], [ 65, 162, 84, 255 ], [ 132, 162, 65, 255 ], [ 162, 104, 65, 255 ], [ 162, 65, 114, 255 ], [ 123, 65, 162, 255 ], [ 47, 47, 119, 255 ], [ 47, 112, 119, 255 ], [ 47, 119, 61, 255 ], [ 97, 119, 47, 255 ], [ 119, 76, 47, 255 ], [ 119, 47, 83, 255 ], [ 90, 47, 119, 255 ], [ 174, 174, 249, 255 ], [ 174, 242, 249, 255 ], [ 174, 249, 189, 255 ], [ 227, 249, 174, 255 ], [ 249, 204, 174, 255 ], [ 249, 174, 212, 255 ], [ 219, 174, 249, 255 ], [ 143, 143, 206, 255 ], [ 143, 199, 206, 255 ], [ 143, 206, 156, 255 ], [ 187, 206, 143, 255 ], [ 206, 168, 143, 255 ], [ 206, 143, 175, 255 ], [ 181, 143, 206, 255 ], [ 114, 114, 162, 255 ], [ 114, 157, 162, 255 ], [ 114, 162, 123, 255 ], [ 147, 162, 114, 255 ], [ 162, 132, 114, 255 ], [ 162, 114, 137, 255 ], [ 142, 114, 162, 255 ], [ 83, 83, 119, 255 ], [ 83, 115, 119, 255 ], [ 83, 119, 90, 255 ], [ 108, 119, 83, 255 ], [ 119, 97, 83, 255 ], [ 119, 83, 101, 255 ], [ 104, 83, 119, 255 ], [ 224, 224, 249, 255 ], [ 224, 247, 249, 255 ], [ 224, 249, 229, 255 ], [ 242, 249, 224, 255 ], [ 249, 234, 224, 255 ], [ 249, 224, 237, 255 ], [ 239, 224, 249, 255 ], [ 185, 185, 206, 255 ], [ 185, 204, 206, 255 ], [ 185, 206, 189, 255 ], [ 199, 206, 185, 255 ], [ 206, 193, 185, 255 ], [ 206, 185, 195, 255 ], [ 197, 185, 206, 255 ], [ 145, 145, 162, 255 ], [ 145, 160, 162, 255 ], [ 145, 162, 149, 255 ], [ 157, 162, 145, 255 ], [ 162, 152, 145, 255 ], [ 162, 145, 153, 255 ], [ 155, 145, 162, 255 ], [ 107, 107, 119, 255 ], [ 107, 118, 119, 255 ], [ 107, 119, 109, 255 ], [ 115, 119, 107, 255 ], [ 119, 112, 107, 255 ], [ 119, 107, 113, 255 ], [ 114, 107, 119, 255 ], [ 0, 0, 249, 255 ], [ 0, 224, 249, 255 ], [ 0, 249, 50, 255 ], [ 174, 249, 0, 255 ], [ 249, 100, 0, 255 ], [ 249, 0, 125, 255 ], [ 149, 0, 249, 255 ], [ 0, 0, 206, 255 ], [ 0, 185, 206, 255 ], [ 0, 206, 41, 255 ], [ 143, 206, 0, 255 ], [ 206, 82, 0, 255 ], [ 206, 0, 103, 255 ], [ 124, 0, 206, 255 ], [ 0, 0, 162, 255 ], [ 0, 145, 162, 255 ], [ 0, 162, 32, 255 ], [ 114, 162, 0, 255 ], [ 162, 65, 0, 255 ], [ 162, 0, 81, 255 ], [ 97, 0, 162, 255 ], [ 0, 0, 119, 255 ], [ 0, 107, 119, 255 ], [ 0, 119, 23, 255 ], [ 83, 119, 0, 255 ], [ 119, 47, 0, 255 ], [ 119, 0, 59, 255 ], [ 71, 0, 119, 255 ], [ 100, 100, 249, 255 ], [ 100, 234, 249, 255 ], [ 100, 249, 129, 255 ], [ 204, 249, 100, 255 ], [ 249, 159, 100, 255 ], [ 249, 100, 174, 255 ], [ 189, 100, 249, 255 ], [ 82, 82, 206, 255 ], [ 82, 193, 206, 255 ], [ 82, 206, 107, 255 ], [ 168, 206, 82, 255 ], [ 206, 131, 82, 255 ], [ 206, 82, 143, 255 ], [ 156, 82, 206, 255 ], [ 65, 65, 162, 255 ], [ 65, 152, 162, 255 ], [ 65, 162, 84, 255 ], [ 132, 162, 65, 255 ], [ 162, 104, 65, 255 ], [ 162, 65, 114, 255 ], [ 123, 65, 162, 255 ], [ 47, 47, 119, 255 ], [ 47, 112, 119, 255 ], [ 47, 119, 61, 255 ], [ 97, 119, 47, 255 ], [ 119, 76, 47, 255 ], [ 119, 47, 83, 255 ], [ 90, 47, 119, 255 ], [ 174, 174, 249, 255 ], [ 174, 242, 249, 255 ], [ 174, 249, 189, 255 ], [ 227, 249, 174, 255 ], [ 249, 204, 174, 255 ], [ 249, 174, 212, 255 ], [ 219, 174, 249, 255 ], [ 143, 143, 206, 255 ], [ 143, 199, 206, 255 ], [ 143, 206, 156, 255 ], [ 187, 206, 143, 255 ], [ 206, 168, 143, 255 ], [ 206, 143, 175, 255 ], [ 181, 143, 206, 255 ], [ 114, 114, 162, 255 ], [ 114, 157, 162, 255 ], [ 114, 162, 123, 255 ], [ 147, 162, 114, 255 ], [ 162, 132, 114, 255 ], [ 162, 114, 137, 255 ], [ 142, 114, 162, 255 ], [ 83, 83, 119, 255 ], [ 83, 115, 119, 255 ], [ 83, 119, 90, 255 ], [ 108, 119, 83, 255 ], [ 119, 97, 83, 255 ], [ 119, 83, 101, 255 ], [ 104, 83, 119, 255 ], [ 224, 224, 249, 255 ], [ 224, 247, 249, 255 ], [ 224, 249, 229, 255 ], [ 242, 249, 224, 255 ], [ 249, 234, 224, 255 ], [ 249, 224, 237, 255 ], [ 239, 224, 249, 255 ], [ 185, 185, 206, 255 ], [ 185, 204, 206, 255 ], [ 185, 206, 189, 255 ], [ 199, 206, 185, 255 ], [ 206, 193, 185, 255 ], [ 206, 185, 195, 255 ], [ 197, 185, 206, 255 ], [ 145, 145, 162, 255 ], [ 145, 160, 162, 255 ], [ 145, 162, 149, 255 ], [ 157, 162, 145, 255 ], [ 162, 152, 145, 255 ], [ 162, 145, 153, 255 ], [ 155, 145, 162, 255 ], [ 107, 107, 119, 255 ], [ 107, 118, 119, 255 ], [ 107, 119, 109, 255 ], [ 115, 119, 107, 255 ], [ 119, 112, 107, 255 ], [ 119, 107, 113, 255 ], [ 114, 107, 119, 255 ], [ 0, 0, 249, 255 ], [ 0, 224, 249, 255 ], [ 0, 249, 50, 255 ], [ 174, 249, 0, 255 ], [ 249, 100, 0, 255 ], [ 249, 0, 125, 255 ], [ 149, 0, 249, 255 ], [ 0, 0, 206, 255 ], [ 0, 185, 206, 255 ], [ 0, 206, 41, 255 ], [ 143, 206, 0, 255 ], [ 206, 82, 0, 255 ], [ 206, 0, 103, 255 ], [ 124, 0, 206, 255 ], [ 0, 0, 162, 255 ], [ 0, 145, 162, 255 ], [ 0, 162, 32, 255 ], [ 114, 162, 0, 255 ], [ 162, 65, 0, 255 ], [ 162, 0, 81, 255 ], [ 97, 0, 162, 255 ], [ 0, 0, 119, 255 ], [ 0, 107, 119, 255 ], [ 0, 119, 23, 255 ], [ 83, 119, 0, 255 ], [ 119, 47, 0, 255 ], [ 119, 0, 59, 255 ], [ 71, 0, 119, 255 ], [ 100, 100, 249, 255 ], [ 100, 234, 249, 255 ], [ 100, 249, 129, 255 ], [ 0, 249, 50, 255 ] ]\n",
    "colormap = np.array(colormap)/255.\n",
    "cmap = LinearSegmentedColormap.from_list('my_cmap', colors=colormap)\n",
    "\n",
    "label_names = ['Background','Benign','Tumor']\n",
    "label_index = list(range(len(label_names)))\n",
    "n_labels = len(label_names)\n",
    "label_plot_args = {\"cmap\":cmap, \"vmin\":0, \"vmax\":255, \"interpolation\":\"none\"}\n",
    "\n"
   ]
  },
  {
   "cell_type": "markdown",
   "id": "8fb35acc",
   "metadata": {},
   "source": [
    "# Check images and annotations"
   ]
  },
  {
   "cell_type": "code",
   "execution_count": 7,
   "id": "0ef6ab61-9bd6-44c9-a583-8c0d67828a3e",
   "metadata": {
    "tags": []
   },
   "outputs": [],
   "source": [
    "labels={'Background':0,\n",
    "        'Benign': 1, \n",
    "        'Tumor': 2}\n"
   ]
  },
  {
   "cell_type": "code",
   "execution_count": 2,
   "id": "117c667e",
   "metadata": {
    "tags": []
   },
   "outputs": [
    {
     "name": "stdout",
     "output_type": "stream",
     "text": [
      "TASK:\t\t Task028_camelyon_uncertainty\n",
      "nnUNet ROOT:\t B:\\projects\\pathology-mrifuse\n"
     ]
    }
   ],
   "source": [
    "current_os = \"w\" if os.name == \"nt\" else \"l\"\n",
    "other_os = \"l\" if current_os == \"w\" else \"w\"\n",
    "nnUNet_base = r\"root_folder\" # directory to folder\n",
    "nnUNet_data_root = convert_path(os.path.join(nnUNet_base, \"nnUNet_raw_data\"), current_os)\n",
    "sorted(os.listdir(nnUNet_data_root))\n",
    "task_name = 'Tasknumber_task_name'\n",
    "task_root = os.path.join(nnUNet_data_root, task_name)\n",
    "task_root = convert_path(task_root, current_os)\n",
    "print(\"TASK:\\t\\t\", task_name)\n",
    "nnUNet_base_linux = convert_path(nnUNet_base, to=current_os)\n",
    "print(\"nnUNet ROOT:\\t\", nnUNet_base_linux)\n",
    "image_folder = os.path.join(task_root, \"imagesTr\")\n",
    "image_folder = convert_path(image_folder, current_os)\n",
    "label_folder = os.path.join(task_root, \"labelsTr\")\n",
    "label_folder = convert_path(label_folder, current_os)\n",
    "if not(os.path.isdir(image_folder)):\n",
    "    os.makedirs(image_folder)\n",
    "if not(os.path.isdir(label_folder)):\n",
    "    os.makedirs(label_folder)"
   ]
  },
  {
   "cell_type": "code",
   "execution_count": 3,
   "id": "b6e77acb-c362-4b61-8e84-b3742492168f",
   "metadata": {
    "tags": []
   },
   "outputs": [
    {
     "name": "stdout",
     "output_type": "stream",
     "text": [
      "nnUNet ROOT:\t B:\\projects\\pathology-mrifuse\n",
      "TASK:\t\t Task031_camelyon_with_uncertainty_40\n",
      "nnUNet ROOT:\t B:\\projects\\pathology-mrifuse\n"
     ]
    }
   ],
   "source": [
    "from savenifti import convert_2d_image_to_nifti\n",
    "from polygon import convert_polygons_to_annotations, get_tissue_union_from_mask\n",
    "from filepath import convert_path, GenerateJson\n",
    "import os\n",
    "from wholeslidedata.annotation.wholeslideannotation import WholeSlideAnnotation\n",
    "from wholeslidedata.image.wholeslideimage import WholeSlideImage\n",
    "#from wholeslidedata.accessories.asap.parser import AsapAnnotationParser\n",
    "from matplotlib import pyplot as plt\n",
    "from wholeslidedata.samplers.patchlabelsampler import SegmentationPatchLabelSampler\n",
    "from shapely.geometry import Point\n",
    "import numpy as np\n",
    "import pandas as pd\n",
    "import SimpleITK as sitk\n",
    "from wholeslidedata.annotation.utils import cv2_polygonize\n",
    "from shapely import geometry\n",
    "from wholeslidedata.labels import Label\n",
    "from wholeslidedata.annotation.structures import Annotation\n",
    "import yaml\n",
    "import random\n",
    "current_os = \"w\" if os.name == \"nt\" else \"l\"\n",
    "other_os = \"l\" if current_os == \"w\" else \"w\"\n",
    "camelyon_path = convert_path('/yaml/data_camelyon17.yaml', current_os)\n",
    "with open(camelyon_path, 'r') as f:\n",
    "    yaml = yaml.safe_load(f)\n",
    "root = yaml['path']['root']\n",
    "camelyon = yaml['path']['camelyon17']     \n",
    "train_data = yaml['data']['training']\n",
    "labels={'Background':0,\n",
    "        'Benign': 1, \n",
    "        'Tumor': 2}\n",
    "\n",
    "current_os = \"w\" if os.name == \"nt\" else \"l\"\n",
    "other_os = \"l\" if current_os == \"w\" else \"w\"\n",
    "nnUNet_base = r\"root\"\n",
    "nnUNet_data_root = convert_path(os.path.join(nnUNet_base, \"nnUNet_raw_data\"), current_os)\n",
    "nnUNet_base_linux = convert_path(nnUNet_base, to=current_os)\n",
    "print(\"nnUNet ROOT:\\t\", nnUNet_base_linux)\n",
    "\n",
    "\n",
    "for i,sample_per_slide in zip([task_num],[sample]):\n",
    "    #task_num\n",
    "    #sample = 10-130 per slide\n",
    "    task_name = f'Task0{i}_camelyon_with_uncertainty_{sample_per_slide}'\n",
    "    task_root = os.path.join(nnUNet_data_root, task_name)\n",
    "    task_root = convert_path(task_root, current_os)\n",
    "    print(\"TASK:\\t\\t\", task_name)\n",
    "    nnUNet_base_linux = convert_path(nnUNet_base, to=current_os)\n",
    "    print(\"nnUNet ROOT:\\t\", nnUNet_base_linux)\n",
    "    image_folder = os.path.join(task_root, \"imagesTr\")\n",
    "    image_folder = convert_path(image_folder, current_os)\n",
    "    label_folder = os.path.join(task_root, \"labelsTr\")\n",
    "    label_folder = convert_path(label_folder, current_os)\n",
    "\n",
    "    dataset_path = task_root\n",
    "    GenerateJson(dataset_path)"
   ]
  },
  {
   "cell_type": "markdown",
   "id": "8a25a07d-8efa-40dc-ab69-aadbd1c3dc2d",
   "metadata": {
    "tags": []
   },
   "source": [
    "## Loss on distributions"
   ]
  },
  {
   "cell_type": "markdown",
   "id": "4a6d9eaa-10a0-40c7-b6c2-8ce942890f86",
   "metadata": {},
   "source": [
    "### Claculate the mean MSE losses over percentages of indivudual folds and their mean"
   ]
  },
  {
   "cell_type": "code",
   "execution_count": null,
   "id": "1b4c1166-c9d4-4d8f-aa9f-a61bd4472ad8",
   "metadata": {},
   "outputs": [],
   "source": [
    "wsi_or_roi_based = 'roi'"
   ]
  },
  {
   "cell_type": "code",
   "execution_count": null,
   "id": "31f74fa7-d3a8-408c-a5fa-ebac9e4743e0",
   "metadata": {},
   "outputs": [],
   "source": [
    "if wsi_or_roi_based == 'wsi':\n",
    "    print_best_dist_loss(val_distribution_losses)\n",
    "    print_best_dist_loss(val_distribution_losses_log)"
   ]
  },
  {
   "cell_type": "code",
   "execution_count": null,
   "id": "43c954ed-7178-4eb3-beb5-bb120ef00a8a",
   "metadata": {},
   "outputs": [],
   "source": [
    "if wsi_or_roi_based == 'roi':\n",
    "    print_best_dist_loss(train_distribution_losses)\n",
    "    print_best_dist_loss(train_distribution_losses_log)"
   ]
  },
  {
   "cell_type": "code",
   "execution_count": null,
   "id": "f76b7118-9650-4086-83e3-f956ffe31ed1",
   "metadata": {},
   "outputs": [],
   "source": [
    "if wsi_or_roi_based == 'roi':\n",
    "    print_best_dist_loss(val_distribution_losses)\n",
    "    print_best_dist_loss(val_distribution_losses_log)"
   ]
  },
  {
   "cell_type": "markdown",
   "id": "0f58acd4",
   "metadata": {},
   "source": [
    "# Create nnUNet dataset (TRAIN)"
   ]
  },
  {
   "cell_type": "markdown",
   "id": "f3815e90",
   "metadata": {},
   "source": [
    "Change Task name here for a new project:"
   ]
  },
  {
   "cell_type": "code",
   "execution_count": 9,
   "id": "fab75ba3",
   "metadata": {},
   "outputs": [
    {
     "name": "stdout",
     "output_type": "stream",
     "text": [
      "TASK:\t\t Task130_camelyon_uncertainty_130\n",
      "nnUNet ROOT:\t /data/pathology/projects/pathology-mrifuse\n"
     ]
    }
   ],
   "source": [
    "import os\n",
    "task_name = f'Task130_camelyon_uncertainty_130'\n",
    "task_root = os.path.join(nnUNet_data_root, task_name)\n",
    "task_root = convert_path(task_root, current_os)\n",
    "print(\"TASK:\\t\\t\", task_name)\n",
    "nnUNet_base_linux = convert_path(nnUNet_base, to=current_os)\n",
    "print(\"nnUNet ROOT:\\t\", nnUNet_base_linux)\n",
    "image_folder = os.path.join(task_root, \"imagesTr\")\n",
    "image_folder = convert_path(image_folder, current_os)\n",
    "label_folder = os.path.join(task_root, \"labelsTr\")\n",
    "label_folder = convert_path(label_folder, current_os)\n",
    "os.makedirs(image_folder, exist_ok=True)\n",
    "os.makedirs(label_folder, exist_ok=True)\n",
    "dataset_path = task_root\n",
    "GenerateJson(dataset_path)"
   ]
  },
  {
   "cell_type": "code",
   "execution_count": 23,
   "id": "34030292",
   "metadata": {
    "tags": []
   },
   "outputs": [],
   "source": [
    "nnUNet_base_linux = convert_path(nnUNet_base, to=current_os)\n"
   ]
  },
  {
   "cell_type": "markdown",
   "id": "df2c9909",
   "metadata": {},
   "source": [
    "dataset_path"
   ]
  },
  {
   "cell_type": "markdown",
   "id": "b412e515",
   "metadata": {},
   "source": [
    "### Make dataset json"
   ]
  },
  {
   "cell_type": "markdown",
   "id": "40d03d5d",
   "metadata": {},
   "source": [
    "# Run nnUNet TRAIN job"
   ]
  },
  {
   "cell_type": "code",
   "execution_count": 29,
   "id": "6d4e1feb",
   "metadata": {},
   "outputs": [
    {
     "name": "stdout",
     "output_type": "stream",
     "text": [
      "TASK:\t\t Task028_camelyon_uncertainty\n",
      "nnUNet ROOT:\t /data/pathology/projects/pathology-mrifuse\n"
     ]
    }
   ],
   "source": [
    "print(\"TASK:\\t\\t\", task_name)\n",
    "nnUNet_base_linux = convert_path(nnUNet_base, to=\"linux\")\n",
    "print(\"nnUNet ROOT:\\t\", nnUNet_base_linux)"
   ]
  },
  {
   "cell_type": "markdown",
   "id": "9307c2fb-25ef-4bbe-887b-c0c013b15c70",
   "metadata": {
    "tags": []
   },
   "source": [
    "## Set docker, trainer, and experiment planner"
   ]
  },
  {
   "cell_type": "markdown",
   "id": "823d51c7-debc-431e-b732-7e6351d42dc0",
   "metadata": {},
   "source": [
    "### Current docker:\n",
    "'doduo1.umcn.nl/pathology_lung_til/nnunet:9.0-midl2023'\n",
    "\n",
    "### how I made the docker\n",
    "on cluster \n",
    "\n",
    "clone diag nnunet wrapper (into project folder)\n",
    "\n",
    "checkout my feature branch that allows changing the plans and experiment planner, derived from feature branch from max de grauw\n",
    "\n",
    "take the docker file there (which uses the cloned repo's wrapper.py file (maybe incorrect name))\n",
    "\n",
    "copy your own specific docker commands below it\n",
    "\n",
    "build and push it (change name in build.sh file)\n",
    "\n",
    "voila"
   ]
  },
  {
   "cell_type": "code",
   "execution_count": 7,
   "id": "09cb7590-8b06-45c6-86ed-c382224d1b3b",
   "metadata": {},
   "outputs": [],
   "source": [
    "# docker = 'doduo1.umcn.nl/pathology_lung_til/nnunet:8.7-pathology_DA-latest'\n",
    "docker = 'doduo1.umcn.nl/pathology_lung_til/nnunet:9.4-midl2023'\n",
    "\n",
    "# trainer_name = 'nnUNetTrainerV2' #default\n",
    "trainer_name = 'nnUNetTrainerV2_BN'\n",
    "#trainer_name = 'nnUNetTrainerV2_BN_pathology_DA_hed005'\n",
    "# trainer_name = 'nnUNetTrainerV2_BN_pathology_DA_hed005_hsv010'\n",
    "\n",
    "# experiment_planner = 'ExperimentPlanner2D_v21_RGB_z_score_default' # this is a compatibility wrapper of the default\n",
    "# experiment_planner = 'ExperimentPlanner2D_v21_RGB_z_score_default_bs2_ps1024'\n",
    "# experiment_planner = 'ExperimentPlanner2D_v21_RGB_scaleTo_0_1'\n",
    "# experiment_planner = 'ExperimentPlanner2D_v21_RGB_scaleTo_0_1_bs2_ps1024'\n",
    "experiment_planner = 'ExperimentPlanner2D_v21_RGB_scaleTo_0_1_bs8_ps512'\n",
    "# experiment_planner = 'ExperimentPlanner2D_v21_RGB_scaleTo_0_1_bs32_ps256'\n",
    "\n",
    "# experiment_planner_identifier = 'nnUNet_RGB_z_score_default'# this is a compatibility wrapper of the default\n",
    "# experiment_planner_identifier = 'nnUNet_RGB_z_score_default_bs2_ps1024' # this is a compatibility wrapper of the default\n",
    "# experiment_planner_identifier = 'nnUNet_RGB_scaleTo_0_1'\n",
    "# experiment_planner_identifier = 'nnUNet_RGB_scaleTo_0_1_bs2_ps1024'\n",
    "experiment_planner_identifier = 'nnUNet_RGB_scaleTo_0_1_bs8_ps512'\n",
    "# experiment_planner_identifier = 'nnUNet_RGB_scaleTo_0_1_bs32_ps256'"
   ]
  },
  {
   "cell_type": "markdown",
   "id": "0cb62425-1148-4b5c-bc09-b7c99c2a5e70",
   "metadata": {},
   "source": [
    "## Manually set patch size"
   ]
  },
  {
   "cell_type": "markdown",
   "id": "c19bd0c8-0e64-4e4e-b000-2e39f158821e",
   "metadata": {},
   "source": [
    "check and set to true"
   ]
  },
  {
   "cell_type": "markdown",
   "id": "41151fc9-e5ba-4b23-8183-053b18b29d9b",
   "metadata": {},
   "source": [
    "## Manually set data splits"
   ]
  },
  {
   "cell_type": "markdown",
   "id": "4e0c913b",
   "metadata": {},
   "source": [
    "### Copy output below for ENSEMBLE"
   ]
  },
  {
   "cell_type": "code",
   "execution_count": null,
   "id": "d19ded51",
   "metadata": {},
   "outputs": [],
   "source": [
    "names = ['FOLD_0', 'FOLD_1', 'FOLD_2', 'FOLD_3', 'FOLD_4', \"ALL\"]\n",
    "folds = [0, 1, 2, 3, 4, \"all\"]\n",
    "for (name, fold) in zip(names, folds):\n",
    "    print(name, '\\n')\n",
    "    output_folder_single_model_linux = nnUNet_base_linux+\"/inference_results/\" + task_name[:7] + f\"_{name}\" + task_name[7:]\n",
    "#     if makedirs:\n",
    "#         os.mkdir(convert_path(output_folder_single_model_linux, to=\"windows\")) # change this if ur linux\n",
    "    inference_command = f\"./c-submit --require-cpus=4 --require-mem=28g --gpu-count=1 \\\n",
    "--require-gpu-mem=11g --priority={priority} joeyspronck 9974 72 \\\n",
    "doduo1.umcn.nl/nnunet/sol nnunet predict \\\n",
    "{task_name} \\\n",
    "--results {results_folder_linux} \\\n",
    "--input {test_image_folder_linux} \\\n",
    "--output {output_folder_single_model_linux} \\\n",
    "--checkpoint model_best \\\n",
    "--trainer nnUNetTrainerV2_Loss_CE_checkpoints \\\n",
    "--network 2d \\\n",
    "--store_probability_maps \\\n",
    "--folds {fold}\"\n",
    "    print(inference_command, '\\n\\n\\n')"
   ]
  }
 ],
 "metadata": {
  "kernelspec": {
   "display_name": "Python 3 (ipykernel)",
   "language": "python",
   "name": "python3"
  },
  "language_info": {
   "codemirror_mode": {
    "name": "ipython",
    "version": 3
   },
   "file_extension": ".py",
   "mimetype": "text/x-python",
   "name": "python",
   "nbconvert_exporter": "python",
   "pygments_lexer": "ipython3",
   "version": "3.9.0"
  }
 },
 "nbformat": 4,
 "nbformat_minor": 5
}
