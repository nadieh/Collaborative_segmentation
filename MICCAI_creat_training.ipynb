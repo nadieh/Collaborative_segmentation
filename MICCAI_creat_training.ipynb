{
 "cells": [
  {
   "cell_type": "markdown",
   "id": "0eb51d36",
   "metadata": {},
   "source": [
    "# Create nnUNet data and dataset json\n",
    "---\n",
    "### Nadieh"
   ]
  },
  {
   "cell_type": "markdown",
   "id": "b2cbaa13-4847-43d8-8555-09a531a42c33",
   "metadata": {},
   "source": [
    "I use this command for my interactive job:\n",
    "\n",
    "~/c-submit --priority=high --gpu-count=1 --require-gpu-mem=10G --require-mem=32G --require-cpus=8 --node=dlc-ditto --interactive --env CODEBASE=/data/pathology/projects/pathology-lung-TIL joeyspronck 9974 4 doduo1.umcn.nl/pathology_lung_til/nnunet:9.4-midl2023"
   ]
  },
  {
   "cell_type": "code",
   "execution_count": 1,
   "id": "e0356171-12c6-44b1-8226-5acfbe58a9d7",
   "metadata": {
    "pycharm": {
     "is_executing": true
    },
    "tags": []
   },
   "outputs": [],
   "source": [
    "from savenifti import convert_2d_image_to_nifti\n",
    "from polygon import convert_polygons_to_annotations, get_tissue_union_from_mask\n",
    "from filepath import convert_path, GenerateJson"
   ]
  },
  {
   "cell_type": "markdown",
   "id": "509a4807",
   "metadata": {},
   "source": [
    "# Libraries"
   ]
  },
  {
   "cell_type": "code",
   "execution_count": 2,
   "id": "5f9e24fe",
   "metadata": {
    "tags": []
   },
   "outputs": [],
   "source": [
    "import os\n",
    "from wholeslidedata.annotation.wholeslideannotation import WholeSlideAnnotation\n",
    "from wholeslidedata.image.wholeslideimage import WholeSlideImage\n",
    "#from wholeslidedata.accessories.asap.parser import AsapAnnotationParser\n",
    "from matplotlib import pyplot as plt\n",
    "from wholeslidedata.samplers.patchlabelsampler import SegmentationPatchLabelSampler\n",
    "from shapely.geometry import Point\n",
    "import numpy as np\n",
    "import pandas as pd\n",
    "import SimpleITK as sitk\n",
    "from wholeslidedata.annotation.utils import cv2_polygonize\n",
    "from shapely import geometry\n",
    "from wholeslidedata.labels import Label\n",
    "from wholeslidedata.annotation.structures import Annotation"
   ]
  },
  {
   "cell_type": "code",
   "execution_count": 3,
   "id": "263ca781",
   "metadata": {
    "tags": []
   },
   "outputs": [],
   "source": [
    "# !pip3 install git+https://github.com/DIAGNijmegen/pathology-whole-slide-data@main\n",
    "# !pip3 install --upgrade opencv-python-headless\n",
    "# # # sudo apt update && sudo apt -y upgrade && sudo apt-get install -y openslide-tools\n",
    "# restart kernel\n"
   ]
  },
  {
   "cell_type": "markdown",
   "id": "937205e9",
   "metadata": {},
   "source": [
    "# Data import"
   ]
  },
  {
   "cell_type": "code",
   "execution_count": 3,
   "id": "931f6bb4-ac9a-44b3-aa8b-7eacf934ebb7",
   "metadata": {
    "tags": []
   },
   "outputs": [],
   "source": [
    "import yaml\n",
    "import random\n",
    "import os\n",
    "current_os = \"w\" if os.name == \"nt\" else \"l\"\n",
    "other_os = \"l\" if current_os == \"w\" else \"w\"\n",
    "camelyon_path = convert_path('/data/pathology/projects/pathology-mrifuse/yaml/data_camelyon17.yaml', current_os)\n",
    "with open(camelyon_path, 'r') as f:\n",
    "    yaml = yaml.safe_load(f)\n",
    "root = yaml['path']['root']\n",
    "camelyon = yaml['path']['camelyon17']     \n",
    "train_data = yaml['data']['training']\n"
   ]
  },
  {
   "cell_type": "markdown",
   "id": "772ccb18",
   "metadata": {},
   "source": [
    "## Combine"
   ]
  },
  {
   "cell_type": "markdown",
   "id": "1e8afca6",
   "metadata": {},
   "source": [
    "This iteration I combine the new batch with the original train data to check if we indeed improved upon the mistakes we identified in the original test set (we chose new ROIs to address specific mistakes we identified in the test data)."
   ]
  },
  {
   "cell_type": "markdown",
   "id": "46c649e3",
   "metadata": {},
   "source": [
    "### Whole Slide Data"
   ]
  },
  {
   "cell_type": "markdown",
   "id": "25f44d91",
   "metadata": {},
   "source": [
    "### Colormap ASAP and labels"
   ]
  },
  {
   "cell_type": "code",
   "execution_count": 7,
   "id": "1ac1f20e",
   "metadata": {
    "tags": []
   },
   "outputs": [
    {
     "data": {
      "image/png": "[encoded data removed]",
      "text/plain": [
       "<Figure size 360x360 with 2 Axes>"
      ]
     },
     "metadata": {
      "needs_background": "light"
     },
     "output_type": "display_data"
    }
   ],
   "source": [
    "from matplotlib.colors import LinearSegmentedColormap\n",
    "from matplotlib import cm\n",
    "# import pylab as plt\n",
    "\n",
    "colormap = [ [ 0, 0, 0, 0 ], [ 0, 224, 249, 255 ], [ 0, 249, 50, 255 ], [ 174, 249, 0, 255 ], [ 249, 100, 0, 255 ], [ 249, 0, 125, 255 ], [ 149, 0, 249, 255 ], [ 0, 0, 206, 255 ], [ 0, 185, 206, 255 ], [ 0, 206, 41, 255 ], [ 143, 206, 0, 255 ], [ 206, 82, 0, 255 ], [ 206, 0, 103, 255 ], [ 124, 0, 206, 255 ], [ 0, 0, 162, 255 ], [ 0, 145, 162, 255 ], [ 0, 162, 32, 255 ], [ 114, 162, 0, 255 ], [ 162, 65, 0, 255 ], [ 162, 0, 81, 255 ], [ 97, 0, 162, 255 ], [ 0, 0, 119, 255 ], [ 0, 107, 119, 255 ], [ 0, 119, 23, 255 ], [ 83, 119, 0, 255 ], [ 119, 47, 0, 255 ], [ 119, 0, 59, 255 ], [ 71, 0, 119, 255 ], [ 100, 100, 249, 255 ], [ 100, 234, 249, 255 ], [ 100, 249, 129, 255 ], [ 204, 249, 100, 255 ], [ 249, 159, 100, 255 ], [ 249, 100, 174, 255 ], [ 189, 100, 249, 255 ], [ 82, 82, 206, 255 ], [ 82, 193, 206, 255 ], [ 82, 206, 107, 255 ], [ 168, 206, 82, 255 ], [ 206, 131, 82, 255 ], [ 206, 82, 143, 255 ], [ 156, 82, 206, 255 ], [ 65, 65, 162, 255 ], [ 65, 152, 162, 255 ], [ 65, 162, 84, 255 ], [ 132, 162, 65, 255 ], [ 162, 104, 65, 255 ], [ 162, 65, 114, 255 ], [ 123, 65, 162, 255 ], [ 47, 47, 119, 255 ], [ 47, 112, 119, 255 ], [ 47, 119, 61, 255 ], [ 97, 119, 47, 255 ], [ 119, 76, 47, 255 ], [ 119, 47, 83, 255 ], [ 90, 47, 119, 255 ], [ 174, 174, 249, 255 ], [ 174, 242, 249, 255 ], [ 174, 249, 189, 255 ], [ 227, 249, 174, 255 ], [ 249, 204, 174, 255 ], [ 249, 174, 212, 255 ], [ 219, 174, 249, 255 ], [ 143, 143, 206, 255 ], [ 143, 199, 206, 255 ], [ 143, 206, 156, 255 ], [ 187, 206, 143, 255 ], [ 206, 168, 143, 255 ], [ 206, 143, 175, 255 ], [ 181, 143, 206, 255 ], [ 114, 114, 162, 255 ], [ 114, 157, 162, 255 ], [ 114, 162, 123, 255 ], [ 147, 162, 114, 255 ], [ 162, 132, 114, 255 ], [ 162, 114, 137, 255 ], [ 142, 114, 162, 255 ], [ 83, 83, 119, 255 ], [ 83, 115, 119, 255 ], [ 83, 119, 90, 255 ], [ 108, 119, 83, 255 ], [ 119, 97, 83, 255 ], [ 119, 83, 101, 255 ], [ 104, 83, 119, 255 ], [ 224, 224, 249, 255 ], [ 224, 247, 249, 255 ], [ 224, 249, 229, 255 ], [ 242, 249, 224, 255 ], [ 249, 234, 224, 255 ], [ 249, 224, 237, 255 ], [ 239, 224, 249, 255 ], [ 185, 185, 206, 255 ], [ 185, 204, 206, 255 ], [ 185, 206, 189, 255 ], [ 199, 206, 185, 255 ], [ 206, 193, 185, 255 ], [ 206, 185, 195, 255 ], [ 197, 185, 206, 255 ], [ 145, 145, 162, 255 ], [ 145, 160, 162, 255 ], [ 145, 162, 149, 255 ], [ 157, 162, 145, 255 ], [ 162, 152, 145, 255 ], [ 162, 145, 153, 255 ], [ 155, 145, 162, 255 ], [ 107, 107, 119, 255 ], [ 107, 118, 119, 255 ], [ 107, 119, 109, 255 ], [ 115, 119, 107, 255 ], [ 119, 112, 107, 255 ], [ 119, 107, 113, 255 ], [ 114, 107, 119, 255 ], [ 0, 0, 249, 255 ], [ 0, 224, 249, 255 ], [ 0, 249, 50, 255 ], [ 174, 249, 0, 255 ], [ 249, 100, 0, 255 ], [ 249, 0, 125, 255 ], [ 149, 0, 249, 255 ], [ 0, 0, 206, 255 ], [ 0, 185, 206, 255 ], [ 0, 206, 41, 255 ], [ 143, 206, 0, 255 ], [ 206, 82, 0, 255 ], [ 206, 0, 103, 255 ], [ 124, 0, 206, 255 ], [ 0, 0, 162, 255 ], [ 0, 145, 162, 255 ], [ 0, 162, 32, 255 ], [ 114, 162, 0, 255 ], [ 162, 65, 0, 255 ], [ 162, 0, 81, 255 ], [ 97, 0, 162, 255 ], [ 0, 0, 119, 255 ], [ 0, 107, 119, 255 ], [ 0, 119, 23, 255 ], [ 83, 119, 0, 255 ], [ 119, 47, 0, 255 ], [ 119, 0, 59, 255 ], [ 71, 0, 119, 255 ], [ 100, 100, 249, 255 ], [ 100, 234, 249, 255 ], [ 100, 249, 129, 255 ], [ 204, 249, 100, 255 ], [ 249, 159, 100, 255 ], [ 249, 100, 174, 255 ], [ 189, 100, 249, 255 ], [ 82, 82, 206, 255 ], [ 82, 193, 206, 255 ], [ 82, 206, 107, 255 ], [ 168, 206, 82, 255 ], [ 206, 131, 82, 255 ], [ 206, 82, 143, 255 ], [ 156, 82, 206, 255 ], [ 65, 65, 162, 255 ], [ 65, 152, 162, 255 ], [ 65, 162, 84, 255 ], [ 132, 162, 65, 255 ], [ 162, 104, 65, 255 ], [ 162, 65, 114, 255 ], [ 123, 65, 162, 255 ], [ 47, 47, 119, 255 ], [ 47, 112, 119, 255 ], [ 47, 119, 61, 255 ], [ 97, 119, 47, 255 ], [ 119, 76, 47, 255 ], [ 119, 47, 83, 255 ], [ 90, 47, 119, 255 ], [ 174, 174, 249, 255 ], [ 174, 242, 249, 255 ], [ 174, 249, 189, 255 ], [ 227, 249, 174, 255 ], [ 249, 204, 174, 255 ], [ 249, 174, 212, 255 ], [ 219, 174, 249, 255 ], [ 143, 143, 206, 255 ], [ 143, 199, 206, 255 ], [ 143, 206, 156, 255 ], [ 187, 206, 143, 255 ], [ 206, 168, 143, 255 ], [ 206, 143, 175, 255 ], [ 181, 143, 206, 255 ], [ 114, 114, 162, 255 ], [ 114, 157, 162, 255 ], [ 114, 162, 123, 255 ], [ 147, 162, 114, 255 ], [ 162, 132, 114, 255 ], [ 162, 114, 137, 255 ], [ 142, 114, 162, 255 ], [ 83, 83, 119, 255 ], [ 83, 115, 119, 255 ], [ 83, 119, 90, 255 ], [ 108, 119, 83, 255 ], [ 119, 97, 83, 255 ], [ 119, 83, 101, 255 ], [ 104, 83, 119, 255 ], [ 224, 224, 249, 255 ], [ 224, 247, 249, 255 ], [ 224, 249, 229, 255 ], [ 242, 249, 224, 255 ], [ 249, 234, 224, 255 ], [ 249, 224, 237, 255 ], [ 239, 224, 249, 255 ], [ 185, 185, 206, 255 ], [ 185, 204, 206, 255 ], [ 185, 206, 189, 255 ], [ 199, 206, 185, 255 ], [ 206, 193, 185, 255 ], [ 206, 185, 195, 255 ], [ 197, 185, 206, 255 ], [ 145, 145, 162, 255 ], [ 145, 160, 162, 255 ], [ 145, 162, 149, 255 ], [ 157, 162, 145, 255 ], [ 162, 152, 145, 255 ], [ 162, 145, 153, 255 ], [ 155, 145, 162, 255 ], [ 107, 107, 119, 255 ], [ 107, 118, 119, 255 ], [ 107, 119, 109, 255 ], [ 115, 119, 107, 255 ], [ 119, 112, 107, 255 ], [ 119, 107, 113, 255 ], [ 114, 107, 119, 255 ], [ 0, 0, 249, 255 ], [ 0, 224, 249, 255 ], [ 0, 249, 50, 255 ], [ 174, 249, 0, 255 ], [ 249, 100, 0, 255 ], [ 249, 0, 125, 255 ], [ 149, 0, 249, 255 ], [ 0, 0, 206, 255 ], [ 0, 185, 206, 255 ], [ 0, 206, 41, 255 ], [ 143, 206, 0, 255 ], [ 206, 82, 0, 255 ], [ 206, 0, 103, 255 ], [ 124, 0, 206, 255 ], [ 0, 0, 162, 255 ], [ 0, 145, 162, 255 ], [ 0, 162, 32, 255 ], [ 114, 162, 0, 255 ], [ 162, 65, 0, 255 ], [ 162, 0, 81, 255 ], [ 97, 0, 162, 255 ], [ 0, 0, 119, 255 ], [ 0, 107, 119, 255 ], [ 0, 119, 23, 255 ], [ 83, 119, 0, 255 ], [ 119, 47, 0, 255 ], [ 119, 0, 59, 255 ], [ 71, 0, 119, 255 ], [ 100, 100, 249, 255 ], [ 100, 234, 249, 255 ], [ 100, 249, 129, 255 ], [ 0, 249, 50, 255 ] ]\n",
    "colormap = np.array(colormap)/255.\n",
    "cmap = LinearSegmentedColormap.from_list('my_cmap', colors=colormap)\n",
    "\n",
    "label_names = ['Background','Benign','Tumor']\n",
    "label_index = list(range(len(label_names)))\n",
    "n_labels = len(label_names)\n",
    "label_plot_args = {\"cmap\":cmap, \"vmin\":0, \"vmax\":255, \"interpolation\":\"none\"}\n",
    "\n",
    "\n",
    "%matplotlib inline\n",
    "\n",
    "# easy to copy paste in figures this way\n",
    "fig, axs = plt.subplots(1, 2, figsize=(5, 5))\n",
    "axs[-1].imshow([[i] for i in list(range(3))], **label_plot_args)\n",
    "axs[-1].set_yticks(label_index)\n",
    "axs[-1].set_yticklabels(label_names)\n",
    "axs[-1].yaxis.tick_right()\n",
    "axs[-1].get_xaxis().set_visible(False)\n",
    "axs[-1].set_title(\"Labels\")\n",
    "plt.show()"
   ]
  },
  {
   "cell_type": "markdown",
   "id": "8fb35acc",
   "metadata": {},
   "source": [
    "# Check images and annotations, gather pixel label distribution data for generating splits"
   ]
  },
  {
   "cell_type": "code",
   "execution_count": 5,
   "id": "0ef6ab61-9bd6-44c9-a583-8c0d67828a3e",
   "metadata": {
    "tags": []
   },
   "outputs": [
    {
     "ename": "NameError",
     "evalue": "name 'nnUNet_data_root' is not defined",
     "output_type": "error",
     "traceback": [
      "\u001b[0;31m---------------------------------------------------------------------------\u001b[0m",
      "\u001b[0;31mNameError\u001b[0m                                 Traceback (most recent call last)",
      "Input \u001b[0;32mIn [5]\u001b[0m, in \u001b[0;36m<cell line: 4>\u001b[0;34m()\u001b[0m\n\u001b[1;32m      1\u001b[0m labels\u001b[38;5;241m=\u001b[39m{\u001b[38;5;124m'\u001b[39m\u001b[38;5;124mBackground\u001b[39m\u001b[38;5;124m'\u001b[39m:\u001b[38;5;241m0\u001b[39m,\n\u001b[1;32m      2\u001b[0m         \u001b[38;5;124m'\u001b[39m\u001b[38;5;124mBenign\u001b[39m\u001b[38;5;124m'\u001b[39m: \u001b[38;5;241m1\u001b[39m, \n\u001b[1;32m      3\u001b[0m         \u001b[38;5;124m'\u001b[39m\u001b[38;5;124mTumor\u001b[39m\u001b[38;5;124m'\u001b[39m: \u001b[38;5;241m2\u001b[39m}\n\u001b[0;32m----> 4\u001b[0m \u001b[43mnnUNet_data_root\u001b[49m\n",
      "\u001b[0;31mNameError\u001b[0m: name 'nnUNet_data_root' is not defined"
     ]
    }
   ],
   "source": [
    "labels={'Background':0,\n",
    "        'Benign': 1, \n",
    "        'Tumor': 2}\n",
    "nnUNet_data_root \n"
   ]
  },
  {
   "cell_type": "code",
   "execution_count": 2,
   "id": "117c667e",
   "metadata": {
    "tags": []
   },
   "outputs": [
    {
     "name": "stdout",
     "output_type": "stream",
     "text": [
      "TASK:\t\t Task028_camelyon_uncertainty\n",
      "nnUNet ROOT:\t B:\\projects\\pathology-mrifuse\n"
     ]
    }
   ],
   "source": [
    "import os\n",
    "current_os = \"w\" if os.name == \"nt\" else \"l\"\n",
    "other_os = \"l\" if current_os == \"w\" else \"w\"\n",
    "nnUNet_base = r\"B:\\projects\\pathology-mrifuse\"\n",
    "nnUNet_data_root = convert_path(os.path.join(nnUNet_base, \"nnUNet_raw_data\"), current_os)\n",
    "sorted(os.listdir(nnUNet_data_root))\n",
    "task_name = 'Task028_camelyon_uncertainty'\n",
    "task_root = os.path.join(nnUNet_data_root, task_name)\n",
    "task_root = convert_path(task_root, current_os)\n",
    "print(\"TASK:\\t\\t\", task_name)\n",
    "nnUNet_base_linux = convert_path(nnUNet_base, to=current_os)\n",
    "print(\"nnUNet ROOT:\\t\", nnUNet_base_linux)\n",
    "image_folder = os.path.join(task_root, \"imagesTr\")\n",
    "image_folder = convert_path(image_folder, current_os)\n",
    "label_folder = os.path.join(task_root, \"labelsTr\")\n",
    "label_folder = convert_path(label_folder, current_os)\n",
    "if not(os.path.isdir(image_folder)):\n",
    "    os.makedirs(image_folder)\n",
    "if not(os.path.isdir(label_folder)):\n",
    "    os.makedirs(label_folder)"
   ]
  },
  {
   "cell_type": "code",
   "execution_count": 7,
   "id": "9ac4227b-2771-4e6c-9aec-76b36b8118ce",
   "metadata": {
    "tags": []
   },
   "outputs": [
    {
     "name": "stdout",
     "output_type": "stream",
     "text": [
      "TASK:\t\t Task028_camelyon_uncertainty_100\n",
      "nnUNet ROOT:\t B:\\projects\\pathology-mrifuse\n",
      "B:\\archives\\breast\\camelyon\\CAMELYON17\\images\\patient_022_node_3.tif\n"
     ]
    },
    {
     "name": "stderr",
     "output_type": "stream",
     "text": [
      "C:\\Users\\z433290\\AppData\\Local\\anaconda3\\envs\\nnunet\\lib\\site-packages\\wholeslidedata\\image\\wholeslideimage.py:88: UserWarning: Trying to load slide at spacing<2.0...\n",
      "  warnings.warn(\n"
     ]
    },
    {
     "name": "stdout",
     "output_type": "stream",
     "text": [
      "<shapely.coords.CoordinateSequence object at 0x0000020D1E9553A0>\n"
     ]
    },
    {
     "ename": "TypeError",
     "evalue": "__new__() got an unexpected keyword argument 'index'",
     "output_type": "error",
     "traceback": [
      "\u001b[1;31m---------------------------------------------------------------------------\u001b[0m",
      "\u001b[1;31mTypeError\u001b[0m                                 Traceback (most recent call last)",
      "Cell \u001b[1;32mIn[7], line 41\u001b[0m\n\u001b[0;32m     39\u001b[0m wsi \u001b[38;5;241m=\u001b[39m WholeSlideImage(image, backend\u001b[38;5;241m=\u001b[39m\u001b[38;5;124m\"\u001b[39m\u001b[38;5;124masap\u001b[39m\u001b[38;5;124m\"\u001b[39m)\n\u001b[0;32m     40\u001b[0m wsi_mask \u001b[38;5;241m=\u001b[39m WholeSlideImage(mask, backend\u001b[38;5;241m=\u001b[39m\u001b[38;5;124m\"\u001b[39m\u001b[38;5;124masap\u001b[39m\u001b[38;5;124m\"\u001b[39m)\n\u001b[1;32m---> 41\u001b[0m tissues \u001b[38;5;241m=\u001b[39m \u001b[43mget_tissue_union_from_mask\u001b[49m\u001b[43m(\u001b[49m\u001b[43mwsi_mask\u001b[49m\u001b[43m,\u001b[49m\u001b[43m \u001b[49m\u001b[43mwsi\u001b[49m\u001b[43m,\u001b[49m\u001b[43mspacing\u001b[49m\u001b[43m,\u001b[49m\u001b[43mvalue\u001b[49m\u001b[43m \u001b[49m\u001b[38;5;241;43m=\u001b[39;49m\u001b[43m \u001b[49m\u001b[38;5;241;43m1\u001b[39;49m\u001b[43m,\u001b[49m\u001b[43m \u001b[49m\u001b[43mfill_holes\u001b[49m\u001b[43m \u001b[49m\u001b[38;5;241;43m=\u001b[39;49m\u001b[43m \u001b[49m\u001b[38;5;28;43;01mTrue\u001b[39;49;00m\u001b[43m)\u001b[49m\n\u001b[0;32m     44\u001b[0m \u001b[38;5;28;01mfor\u001b[39;00m sample \u001b[38;5;129;01min\u001b[39;00m \u001b[38;5;28mrange\u001b[39m(\u001b[38;5;28mint\u001b[39m(sample_per_slide)):\n\u001b[0;32m     46\u001b[0m     point \u001b[38;5;241m=\u001b[39m Point(\u001b[38;5;241m0\u001b[39m, \u001b[38;5;241m0\u001b[39m)\n",
      "File \u001b[1;32mB:\\projects\\pathology-mrifuse\\nnunet\\polygon.py:77\u001b[0m, in \u001b[0;36mget_tissue_union_from_mask\u001b[1;34m(mask, wsi, spacing, value, fill_holes)\u001b[0m\n\u001b[0;32m     74\u001b[0m \u001b[38;5;28;01mfor\u001b[39;00m polygon \u001b[38;5;129;01min\u001b[39;00m polygons[value]:\n\u001b[0;32m     75\u001b[0m     new_polygons[value]\u001b[38;5;241m.\u001b[39mappend(polygon \u001b[38;5;241m*\u001b[39m wsi_mask_spacing_ratio)\n\u001b[1;32m---> 77\u001b[0m annotations \u001b[38;5;241m=\u001b[39m \u001b[43mconvert_polygons_to_annotations\u001b[49m\u001b[43m(\u001b[49m\n\u001b[0;32m     78\u001b[0m \u001b[43m    \u001b[49m\u001b[43mpolygons\u001b[49m\u001b[38;5;241;43m=\u001b[39;49m\u001b[43mnew_polygons\u001b[49m\u001b[43m,\u001b[49m\u001b[43m \u001b[49m\u001b[43minv_label_map\u001b[49m\u001b[38;5;241;43m=\u001b[39;49m\u001b[43minv_label_map\u001b[49m\u001b[43m,\u001b[49m\u001b[43m \u001b[49m\u001b[43mcolor_map\u001b[49m\u001b[38;5;241;43m=\u001b[39;49m\u001b[43mcolor_map\u001b[49m\u001b[43m)\u001b[49m\n\u001b[0;32m     79\u001b[0m \u001b[38;5;28;01mreturn\u001b[39;00m annotations\n",
      "File \u001b[1;32mB:\\projects\\pathology-mrifuse\\nnunet\\polygon.py:56\u001b[0m, in \u001b[0;36mconvert_polygons_to_annotations\u001b[1;34m(polygons, inv_label_map, color_map)\u001b[0m\n\u001b[0;32m     54\u001b[0m         \u001b[38;5;28;01mexcept\u001b[39;00m \u001b[38;5;167;01mException\u001b[39;00m \u001b[38;5;28;01mas\u001b[39;00m e:\n\u001b[0;32m     55\u001b[0m             \u001b[38;5;28mprint\u001b[39m(annotation_structure[\u001b[38;5;124m\"\u001b[39m\u001b[38;5;124mcoordinates\u001b[39m\u001b[38;5;124m\"\u001b[39m])\n\u001b[1;32m---> 56\u001b[0m             \u001b[38;5;28;01mraise\u001b[39;00m e\n\u001b[0;32m     57\u001b[0m         annotations\u001b[38;5;241m.\u001b[39mappend(annotation)\n\u001b[0;32m     58\u001b[0m \u001b[38;5;28;01mreturn\u001b[39;00m annotations\n",
      "File \u001b[1;32mB:\\projects\\pathology-mrifuse\\nnunet\\polygon.py:53\u001b[0m, in \u001b[0;36mconvert_polygons_to_annotations\u001b[1;34m(polygons, inv_label_map, color_map)\u001b[0m\n\u001b[0;32m     51\u001b[0m \u001b[38;5;28;01mif\u001b[39;00m \u001b[38;5;28mlen\u001b[39m(annotation_structure[\u001b[38;5;124m\"\u001b[39m\u001b[38;5;124mcoordinates\u001b[39m\u001b[38;5;124m\"\u001b[39m]) \u001b[38;5;241m>\u001b[39m\u001b[38;5;241m=\u001b[39m \u001b[38;5;241m3\u001b[39m:\n\u001b[0;32m     52\u001b[0m     \u001b[38;5;28;01mtry\u001b[39;00m:\n\u001b[1;32m---> 53\u001b[0m         annotation \u001b[38;5;241m=\u001b[39m Annotation\u001b[38;5;241m.\u001b[39mcreate(\u001b[38;5;241m*\u001b[39m\u001b[38;5;241m*\u001b[39mannotation_structure)\n\u001b[0;32m     54\u001b[0m     \u001b[38;5;28;01mexcept\u001b[39;00m \u001b[38;5;167;01mException\u001b[39;00m \u001b[38;5;28;01mas\u001b[39;00m e:\n\u001b[0;32m     55\u001b[0m         \u001b[38;5;28mprint\u001b[39m(annotation_structure[\u001b[38;5;124m\"\u001b[39m\u001b[38;5;124mcoordinates\u001b[39m\u001b[38;5;124m\"\u001b[39m])\n",
      "File \u001b[1;32m~\\AppData\\Local\\anaconda3\\envs\\nnunet\\lib\\site-packages\\wholeslidedata\\annotation\\structures.py:19\u001b[0m, in \u001b[0;36mAnnotation.create\u001b[1;34m(cls, type, *args, **kwargs)\u001b[0m\n\u001b[0;32m     17\u001b[0m \u001b[38;5;129m@classmethod\u001b[39m\n\u001b[0;32m     18\u001b[0m \u001b[38;5;28;01mdef\u001b[39;00m \u001b[38;5;21mcreate\u001b[39m(\u001b[38;5;28mcls\u001b[39m, \u001b[38;5;28mtype\u001b[39m: Union[\u001b[38;5;28mstr\u001b[39m, \u001b[38;5;28mtype\u001b[39m], \u001b[38;5;241m*\u001b[39margs, \u001b[38;5;241m*\u001b[39m\u001b[38;5;241m*\u001b[39mkwargs):\n\u001b[1;32m---> 19\u001b[0m     \u001b[38;5;28;01mreturn\u001b[39;00m \u001b[38;5;28msuper\u001b[39m()\u001b[38;5;241m.\u001b[39mcreate(registrant_name\u001b[38;5;241m=\u001b[39m\u001b[38;5;28mtype\u001b[39m, \u001b[38;5;241m*\u001b[39margs, \u001b[38;5;241m*\u001b[39m\u001b[38;5;241m*\u001b[39mkwargs)\n",
      "File \u001b[1;32m~\\AppData\\Local\\anaconda3\\envs\\nnunet\\lib\\site-packages\\creationism\\registration\\factory.py:101\u001b[0m, in \u001b[0;36mRegistrantFactory.create\u001b[1;34m(cls, registrant_name, return_type, *args, **kwargs)\u001b[0m\n\u001b[0;32m     99\u001b[0m \u001b[38;5;28;01mif\u001b[39;00m \u001b[38;5;28mcls\u001b[39m\u001b[38;5;241m.\u001b[39mSTATIC:\n\u001b[0;32m    100\u001b[0m     \u001b[38;5;28;01mreturn\u001b[39;00m \u001b[38;5;28mcls\u001b[39m\u001b[38;5;241m.\u001b[39m_static_create(class_type, \u001b[38;5;241m*\u001b[39margs, \u001b[38;5;241m*\u001b[39m\u001b[38;5;241m*\u001b[39mkwargs)\n\u001b[1;32m--> 101\u001b[0m \u001b[38;5;28;01mreturn\u001b[39;00m \u001b[38;5;28mcls\u001b[39m\u001b[38;5;241m.\u001b[39m_create(class_type, \u001b[38;5;241m*\u001b[39margs, \u001b[38;5;241m*\u001b[39m\u001b[38;5;241m*\u001b[39mkwargs)\n",
      "File \u001b[1;32m~\\AppData\\Local\\anaconda3\\envs\\nnunet\\lib\\site-packages\\creationism\\registration\\factory.py:110\u001b[0m, in \u001b[0;36mRegistrantFactory._create\u001b[1;34m(cls, class_type, *args, **kwargs)\u001b[0m\n\u001b[0;32m    108\u001b[0m \u001b[38;5;129m@classmethod\u001b[39m\n\u001b[0;32m    109\u001b[0m \u001b[38;5;28;01mdef\u001b[39;00m \u001b[38;5;21m_create\u001b[39m(\u001b[38;5;28mcls\u001b[39m, class_type, \u001b[38;5;241m*\u001b[39margs, \u001b[38;5;241m*\u001b[39m\u001b[38;5;241m*\u001b[39mkwargs):\n\u001b[1;32m--> 110\u001b[0m     \u001b[38;5;28;01mreturn\u001b[39;00m class_type(\u001b[38;5;241m*\u001b[39margs, \u001b[38;5;241m*\u001b[39m\u001b[38;5;241m*\u001b[39mkwargs)\n",
      "\u001b[1;31mTypeError\u001b[0m: __new__() got an unexpected keyword argument 'index'"
     ]
    }
   ],
   "source": [
    "from shapely.geometry import Point, Polygon\n",
    "patch_size = (1024,1024)\n",
    "#sample every 100 pixel\n",
    "sample_rate = patch_size[0]*patch_size[1]\n",
    "plot = False\n",
    "contrast_value = 20000 #remove white patch--- masks are bad quality\n",
    "save = True\n",
    "spacing = 1\n",
    "# 'rst', 'umcu','rumc', 'lpon','cwz'\n",
    "center_list = ['rst', 'umcu','rumc', 'lpon','cwz']\n",
    "cancer_list = [ 'negative','itc', 'micro','macro']\n",
    "# counts_wsi = np.zeros(n_labels)\n",
    "for sample_per_slide in range(100,140,30):\n",
    "    \n",
    "    task_name = f'Task028_camelyon_uncertainty_{sample_per_slide}'\n",
    "    task_root = os.path.join(nnUNet_data_root, task_name)\n",
    "    task_root = convert_path(task_root, current_os)\n",
    "    print(\"TASK:\\t\\t\", task_name)\n",
    "    nnUNet_base_linux = convert_path(nnUNet_base, to=current_os)\n",
    "    print(\"nnUNet ROOT:\\t\", nnUNet_base_linux)\n",
    "    image_folder = os.path.join(task_root, \"imagesTr\")\n",
    "    image_folder = convert_path(image_folder, current_os)\n",
    "    label_folder = os.path.join(task_root, \"labelsTr\")\n",
    "    label_folder = convert_path(label_folder, current_os)\n",
    "    if not(os.path.isdir(image_folder)):\n",
    "        os.makedirs(image_folder)\n",
    "    if not(os.path.isdir(label_folder)):\n",
    "        os.makedirs(label_folder)\n",
    "    for center in center_list:\n",
    "        for cancer in cancer_list:\n",
    "            path = train_data['{}/{}'.format(cancer, center)]\n",
    "            for i in path:\n",
    "                image = convert_path(i['image'].format(root='/data/pathology',camelyon17=camelyon), to = current_os)  \n",
    "                mask = convert_path(i['mask'].format(root='/data/pathology',camelyon17=camelyon), to = current_os)\n",
    "                filename = os.path.basename(image)[:-4]\n",
    "                print(image)\n",
    "                s = os.path.split(image)[-1].split(\".\")[-2]\n",
    "\n",
    "                wsi = WholeSlideImage(image, backend=\"asap\")\n",
    "                wsi_mask = WholeSlideImage(mask, backend=\"asap\")\n",
    "                tissues = get_tissue_union_from_mask(wsi_mask, wsi,spacing,value = 1, fill_holes = True)\n",
    "\n",
    "\n",
    "                for sample in range(int(sample_per_slide)):\n",
    "\n",
    "                    point = Point(0, 0)\n",
    "                    list_min_x = [np.min(tissues[i].coordinates[:,0]) for i in range(len(tissues))]\n",
    "                    list_max_x = [np.max(tissues[i].coordinates[:,0]) for i in range(len(tissues))]\n",
    "                    list_min_y = [np.min(tissues[i].coordinates[:,1]) for i in range(len(tissues))]\n",
    "                    list_max_y = [np.max(tissues[i].coordinates[:,1]) for i in range(len(tissues))]\n",
    "                    while not any(tissue.contains(point) for tissue in tissues):\n",
    "                        random_center_x = random.randint(int(min(list_min_x)),int(max(list_max_x)))\n",
    "                        random_center_y = random.randint(int(min(list_min_y)),int(max(list_max_y)))\n",
    "                        point = Point(random_center_x, random_center_y)\n",
    "                    image_patch = wsi.get_patch(random_center_x,random_center_y, patch_size[0], patch_size[1], spacing)\n",
    "                    mask_patch = wsi_mask.get_patch(random_center_x,random_center_y, patch_size[0], patch_size[1], spacing)\n",
    "                    output_filename = filename+ '_{}'.format(sample)\n",
    "                    if save:\n",
    "                        convert_2d_image_to_nifti(image_patch, os.path.join(image_folder, output_filename))\n",
    "                        convert_2d_image_to_nifti(mask_patch, os.path.join(label_folder, output_filename), is_seg=True)      \n",
    "                    vals = image_patch.flatten\n",
    "                    # calculate histogram\n",
    "                    counts, bins = np.histogram(image_patch, range(255))\n",
    "                    contrast = np.sum(counts)\n",
    "                    if contrast<contrast_value:\n",
    "                        continue\n",
    "\n",
    "                    if plot:\n",
    "                        ratio = [14, 2]\n",
    "                        fig, axs = plt.subplots(1,4,figsize=(15,4),gridspec_kw={'width_ratios': [ratio[0], ratio[0], ratio[0], ratio[-1]]})\n",
    "                        fig.suptitle(s+\"_ROI\"+str(sample), fontsize=15)\n",
    "\n",
    "                        # ROI\n",
    "                        axs[0].imshow(image_patch, **label_plot_args)\n",
    "                        axs[0].axis('off')\n",
    "                        axs[0].set_title(\"ROI\")\n",
    "\n",
    "                        # Ground truth tissue\n",
    "                        axs[1].imshow(mask_patch) \n",
    "                        axs[1].axis('off')\n",
    "                        axs[1].set_title(\"Ground truth tissue\")\n",
    "\n",
    "                        # Overlay\n",
    "                        axs[2].imshow(image_patch)\n",
    "                        axs[2].imshow(mask_patch, alpha=0.5, **label_plot_args) \n",
    "                        axs[2].axis('off')\n",
    "                        axs[2].set_title(\"Overlay\")\n",
    "\n",
    "                        # Labels                \n",
    "                        axs[3].imshow([[i] for i in list(range(len(label_index)))], **label_plot_args)\n",
    "                        axs[3].set_yticks(label_index) #, rotation=0, ha=\"right\", rotation_mode=\"anchor\")\n",
    "                        axs[3].set_yticklabels(label_names)\n",
    "                        axs[3].yaxis.tick_right()\n",
    "                        axs[3].get_xaxis().set_visible(False)\n",
    "                        axs[3].set_title(\"Labels\")\n",
    "\n",
    "                        plt.tight_layout()\n",
    "                        plt.show()\n",
    "\n"
   ]
  },
  {
   "cell_type": "code",
   "execution_count": 3,
   "id": "b6e77acb-c362-4b61-8e84-b3742492168f",
   "metadata": {
    "tags": []
   },
   "outputs": [
    {
     "name": "stdout",
     "output_type": "stream",
     "text": [
      "nnUNet ROOT:\t B:\\projects\\pathology-mrifuse\n",
      "TASK:\t\t Task031_camelyon_with_uncertainty_40\n",
      "nnUNet ROOT:\t B:\\projects\\pathology-mrifuse\n"
     ]
    }
   ],
   "source": [
    "from savenifti import convert_2d_image_to_nifti\n",
    "from polygon import convert_polygons_to_annotations, get_tissue_union_from_mask\n",
    "from filepath import convert_path, GenerateJson\n",
    "import os\n",
    "from wholeslidedata.annotation.wholeslideannotation import WholeSlideAnnotation\n",
    "from wholeslidedata.image.wholeslideimage import WholeSlideImage\n",
    "#from wholeslidedata.accessories.asap.parser import AsapAnnotationParser\n",
    "from matplotlib import pyplot as plt\n",
    "from wholeslidedata.samplers.patchlabelsampler import SegmentationPatchLabelSampler\n",
    "from shapely.geometry import Point\n",
    "import numpy as np\n",
    "import pandas as pd\n",
    "import SimpleITK as sitk\n",
    "from wholeslidedata.annotation.utils import cv2_polygonize\n",
    "from shapely import geometry\n",
    "from wholeslidedata.labels import Label\n",
    "from wholeslidedata.annotation.structures import Annotation\n",
    "import yaml\n",
    "import random\n",
    "current_os = \"w\" if os.name == \"nt\" else \"l\"\n",
    "other_os = \"l\" if current_os == \"w\" else \"w\"\n",
    "camelyon_path = convert_path('/data/pathology/projects/pathology-mrifuse/yaml/data_camelyon17.yaml', current_os)\n",
    "with open(camelyon_path, 'r') as f:\n",
    "    yaml = yaml.safe_load(f)\n",
    "root = yaml['path']['root']\n",
    "camelyon = yaml['path']['camelyon17']     \n",
    "train_data = yaml['data']['training']\n",
    "labels={'Background':0,\n",
    "        'Benign': 1, \n",
    "        'Tumor': 2}\n",
    "\n",
    "current_os = \"w\" if os.name == \"nt\" else \"l\"\n",
    "other_os = \"l\" if current_os == \"w\" else \"w\"\n",
    "nnUNet_base = r\"B:\\projects\\pathology-mrifuse\"\n",
    "nnUNet_data_root = convert_path(os.path.join(nnUNet_base, \"nnUNet_raw_data\"), current_os)\n",
    "nnUNet_base_linux = convert_path(nnUNet_base, to=current_os)\n",
    "print(\"nnUNet ROOT:\\t\", nnUNet_base_linux)\n",
    "\n",
    "#'umcu','rumc',  'cwz', \n",
    "\n",
    "\n",
    "for i,sample_per_slide in zip([31],[40]):\n",
    "    #30,31,32,33,\n",
    "    #range(10,140,30)\n",
    "    task_name = f'Task0{i}_camelyon_with_uncertainty_{sample_per_slide}'\n",
    "    task_root = os.path.join(nnUNet_data_root, task_name)\n",
    "    task_root = convert_path(task_root, current_os)\n",
    "    print(\"TASK:\\t\\t\", task_name)\n",
    "    nnUNet_base_linux = convert_path(nnUNet_base, to=current_os)\n",
    "    print(\"nnUNet ROOT:\\t\", nnUNet_base_linux)\n",
    "    image_folder = os.path.join(task_root, \"imagesTr\")\n",
    "    image_folder = convert_path(image_folder, current_os)\n",
    "    label_folder = os.path.join(task_root, \"labelsTr\")\n",
    "    label_folder = convert_path(label_folder, current_os)\n",
    "\n",
    "\n",
    "    label_folder = convert_path(label_folder, current_os)\n",
    "\n",
    "    dataset_path = task_root\n",
    "    GenerateJson(dataset_path)"
   ]
  },
  {
   "cell_type": "code",
   "execution_count": 17,
   "id": "4afe1bcd-90ce-49d9-960e-eba53aba2038",
   "metadata": {},
   "outputs": [
    {
     "ename": "NameError",
     "evalue": "name 'output_filename' is not defined",
     "output_type": "error",
     "traceback": [
      "\u001b[1;31m---------------------------------------------------------------------------\u001b[0m",
      "\u001b[1;31mNameError\u001b[0m                                 Traceback (most recent call last)",
      "Cell \u001b[1;32mIn[17], line 1\u001b[0m\n\u001b[1;32m----> 1\u001b[0m \u001b[43moutput_filename\u001b[49m\n",
      "\u001b[1;31mNameError\u001b[0m: name 'output_filename' is not defined"
     ]
    }
   ],
   "source": [
    "output_filename"
   ]
  },
  {
   "cell_type": "code",
   "execution_count": 18,
   "id": "c133c666-88e4-47be-9fa1-28293e22988b",
   "metadata": {},
   "outputs": [
    {
     "ename": "NameError",
     "evalue": "name 'sample' is not defined",
     "output_type": "error",
     "traceback": [
      "\u001b[1;31m---------------------------------------------------------------------------\u001b[0m",
      "\u001b[1;31mNameError\u001b[0m                                 Traceback (most recent call last)",
      "Cell \u001b[1;32mIn[18], line 1\u001b[0m\n\u001b[1;32m----> 1\u001b[0m output_filename \u001b[38;5;241m=\u001b[39m filename\u001b[38;5;241m+\u001b[39m \u001b[38;5;124m'\u001b[39m\u001b[38;5;124m_\u001b[39m\u001b[38;5;132;01m{}\u001b[39;00m\u001b[38;5;124m'\u001b[39m\u001b[38;5;241m.\u001b[39mformat(\u001b[43msample\u001b[49m)\n",
      "\u001b[1;31mNameError\u001b[0m: name 'sample' is not defined"
     ]
    }
   ],
   "source": [
    "\n",
    "\n",
    "output_filename = filename+ '_{}'.format(sample)\n"
   ]
  },
  {
   "cell_type": "code",
   "execution_count": null,
   "id": "6dd88795-9934-472b-a690-e4d3664edc6c",
   "metadata": {},
   "outputs": [],
   "source": []
  },
  {
   "cell_type": "code",
   "execution_count": null,
   "id": "c166fe41-7abb-4968-978a-d3e95be391ad",
   "metadata": {},
   "outputs": [],
   "source": [
    "\n",
    "tissues[0].coordinates"
   ]
  },
  {
   "cell_type": "code",
   "execution_count": null,
   "id": "91ce2b9e-373c-4b49-be99-0a77f0372cee",
   "metadata": {},
   "outputs": [],
   "source": [
    "path[12:]"
   ]
  },
  {
   "cell_type": "code",
   "execution_count": null,
   "id": "532cb580-661f-4987-aed7-ca77fede5002",
   "metadata": {},
   "outputs": [],
   "source": [
    "output_filename = filename+ '_{}'.format(idx)+'_{}'.format(sample)\n"
   ]
  },
  {
   "cell_type": "code",
   "execution_count": null,
   "id": "c4b28259-4154-4c59-85cb-85e096e7ea38",
   "metadata": {},
   "outputs": [],
   "source": [
    "path"
   ]
  },
  {
   "cell_type": "code",
   "execution_count": null,
   "id": "c05519be-e214-46fd-869e-04b79bbb7481",
   "metadata": {},
   "outputs": [],
   "source": [
    "from sklearn.model_selection import KFold"
   ]
  },
  {
   "cell_type": "markdown",
   "id": "8a25a07d-8efa-40dc-ab69-aadbd1c3dc2d",
   "metadata": {
    "tags": []
   },
   "source": [
    "## Loss on distributions"
   ]
  },
  {
   "cell_type": "markdown",
   "id": "4a6d9eaa-10a0-40c7-b6c2-8ce942890f86",
   "metadata": {},
   "source": [
    "### Claculate the mean MSE losses over percentages of indivudual folds and their mean"
   ]
  },
  {
   "cell_type": "code",
   "execution_count": null,
   "id": "1b4c1166-c9d4-4d8f-aa9f-a61bd4472ad8",
   "metadata": {},
   "outputs": [],
   "source": [
    "wsi_or_roi_based = 'roi'"
   ]
  },
  {
   "cell_type": "code",
   "execution_count": null,
   "id": "31f74fa7-d3a8-408c-a5fa-ebac9e4743e0",
   "metadata": {},
   "outputs": [],
   "source": [
    "if wsi_or_roi_based == 'wsi':\n",
    "    print_best_dist_loss(val_distribution_losses)\n",
    "    print_best_dist_loss(val_distribution_losses_log)"
   ]
  },
  {
   "cell_type": "code",
   "execution_count": null,
   "id": "43c954ed-7178-4eb3-beb5-bb120ef00a8a",
   "metadata": {},
   "outputs": [],
   "source": [
    "if wsi_or_roi_based == 'roi':\n",
    "    print_best_dist_loss(train_distribution_losses)\n",
    "    print_best_dist_loss(train_distribution_losses_log)"
   ]
  },
  {
   "cell_type": "code",
   "execution_count": null,
   "id": "f76b7118-9650-4086-83e3-f956ffe31ed1",
   "metadata": {},
   "outputs": [],
   "source": [
    "if wsi_or_roi_based == 'roi':\n",
    "    print_best_dist_loss(val_distribution_losses)\n",
    "    print_best_dist_loss(val_distribution_losses_log)"
   ]
  },
  {
   "cell_type": "markdown",
   "id": "0ac164d8-daf7-4aa7-8a0d-1e6310b7be4b",
   "metadata": {
    "tags": []
   },
   "source": [
    "# Final split"
   ]
  },
  {
   "cell_type": "markdown",
   "id": "f34539b2-bacb-47a6-a67b-9a34b7852a5d",
   "metadata": {},
   "source": [
    "### WSI based"
   ]
  },
  {
   "cell_type": "markdown",
   "id": "9f1f25f3-c577-49a5-a828-1ff61ec37f3c",
   "metadata": {},
   "source": [
    "### ROI based"
   ]
  },
  {
   "cell_type": "markdown",
   "id": "0f58acd4",
   "metadata": {},
   "source": [
    "# Create nnUNet dataset (TRAIN)"
   ]
  },
  {
   "cell_type": "markdown",
   "id": "f3815e90",
   "metadata": {},
   "source": [
    "Change Task name here for a new project:"
   ]
  },
  {
   "cell_type": "code",
   "execution_count": 9,
   "id": "fab75ba3",
   "metadata": {},
   "outputs": [
    {
     "name": "stdout",
     "output_type": "stream",
     "text": [
      "TASK:\t\t Task130_camelyon_uncertainty_130\n",
      "nnUNet ROOT:\t /data/pathology/projects/pathology-mrifuse\n"
     ]
    }
   ],
   "source": [
    "import os\n",
    "task_name = f'Task130_camelyon_uncertainty_130'\n",
    "task_root = os.path.join(nnUNet_data_root, task_name)\n",
    "task_root = convert_path(task_root, current_os)\n",
    "print(\"TASK:\\t\\t\", task_name)\n",
    "nnUNet_base_linux = convert_path(nnUNet_base, to=current_os)\n",
    "print(\"nnUNet ROOT:\\t\", nnUNet_base_linux)\n",
    "image_folder = os.path.join(task_root, \"imagesTr\")\n",
    "image_folder = convert_path(image_folder, current_os)\n",
    "label_folder = os.path.join(task_root, \"labelsTr\")\n",
    "label_folder = convert_path(label_folder, current_os)\n",
    "os.makedirs(image_folder, exist_ok=True)\n",
    "os.makedirs(label_folder, exist_ok=True)\n",
    "dataset_path = task_root\n",
    "GenerateJson(dataset_path)"
   ]
  },
  {
   "cell_type": "code",
   "execution_count": 23,
   "id": "34030292",
   "metadata": {
    "tags": []
   },
   "outputs": [],
   "source": [
    "nnUNet_base_linux = convert_path(nnUNet_base, to=current_os)\n"
   ]
  },
  {
   "cell_type": "markdown",
   "id": "277a6790",
   "metadata": {},
   "source": [
    "### Makedirs\n",
    "First check ofc"
   ]
  },
  {
   "cell_type": "markdown",
   "id": "df2c9909",
   "metadata": {},
   "source": [
    "dataset_path"
   ]
  },
  {
   "cell_type": "code",
   "execution_count": 39,
   "id": "41f4a86b-b4b2-4abb-9f92-fad1890c9911",
   "metadata": {
    "tags": []
   },
   "outputs": [
    {
     "data": {
      "text/plain": [
       "'B:\\\\projects\\\\pathology-mrifuse\\\\nnUNet_raw_data\\\\Task028_camelyon_uncertainty_130\\\\labelsTr'"
      ]
     },
     "execution_count": 39,
     "metadata": {},
     "output_type": "execute_result"
    }
   ],
   "source": [
    "label_folder"
   ]
  },
  {
   "cell_type": "markdown",
   "id": "b412e515",
   "metadata": {},
   "source": [
    "### Make dataset json"
   ]
  },
  {
   "cell_type": "markdown",
   "id": "40d03d5d",
   "metadata": {},
   "source": [
    "# Run nnUNet TRAIN job"
   ]
  },
  {
   "cell_type": "code",
   "execution_count": 29,
   "id": "6d4e1feb",
   "metadata": {},
   "outputs": [
    {
     "name": "stdout",
     "output_type": "stream",
     "text": [
      "TASK:\t\t Task028_camelyon_uncertainty\n",
      "nnUNet ROOT:\t /data/pathology/projects/pathology-mrifuse\n"
     ]
    }
   ],
   "source": [
    "print(\"TASK:\\t\\t\", task_name)\n",
    "nnUNet_base_linux = convert_path(nnUNet_base, to=\"linux\")\n",
    "print(\"nnUNet ROOT:\\t\", nnUNet_base_linux)"
   ]
  },
  {
   "cell_type": "markdown",
   "id": "9307c2fb-25ef-4bbe-887b-c0c013b15c70",
   "metadata": {
    "tags": []
   },
   "source": [
    "## Set docker, trainer, and experiment planner"
   ]
  },
  {
   "cell_type": "markdown",
   "id": "823d51c7-debc-431e-b732-7e6351d42dc0",
   "metadata": {},
   "source": [
    "### Current docker:\n",
    "'doduo1.umcn.nl/pathology_lung_til/nnunet:9.0-midl2023'\n",
    "\n",
    "### how I made the docker\n",
    "on cluster \n",
    "\n",
    "clone diag nnunet wrapper (into project folder)\n",
    "\n",
    "checkout my feature branch that allows changing the plans and experiment planner, derived from feature branch from max de grauw\n",
    "\n",
    "take the docker file there (which uses the cloned repo's wrapper.py file (maybe incorrect name))\n",
    "\n",
    "copy your own specific docker commands below it\n",
    "\n",
    "build and push it (change name in build.sh file)\n",
    "\n",
    "voila"
   ]
  },
  {
   "cell_type": "code",
   "execution_count": 7,
   "id": "09cb7590-8b06-45c6-86ed-c382224d1b3b",
   "metadata": {},
   "outputs": [],
   "source": [
    "# docker = 'doduo1.umcn.nl/pathology_lung_til/nnunet:8.7-pathology_DA-latest'\n",
    "docker = 'doduo1.umcn.nl/pathology_lung_til/nnunet:9.4-midl2023'\n",
    "\n",
    "# trainer_name = 'nnUNetTrainerV2' #default\n",
    "trainer_name = 'nnUNetTrainerV2_BN'\n",
    "#trainer_name = 'nnUNetTrainerV2_BN_pathology_DA_hed005'\n",
    "# trainer_name = 'nnUNetTrainerV2_BN_pathology_DA_hed005_hsv010'\n",
    "\n",
    "# experiment_planner = 'ExperimentPlanner2D_v21_RGB_z_score_default' # this is a compatibility wrapper of the default\n",
    "# experiment_planner = 'ExperimentPlanner2D_v21_RGB_z_score_default_bs2_ps1024'\n",
    "# experiment_planner = 'ExperimentPlanner2D_v21_RGB_scaleTo_0_1'\n",
    "# experiment_planner = 'ExperimentPlanner2D_v21_RGB_scaleTo_0_1_bs2_ps1024'\n",
    "experiment_planner = 'ExperimentPlanner2D_v21_RGB_scaleTo_0_1_bs8_ps512'\n",
    "# experiment_planner = 'ExperimentPlanner2D_v21_RGB_scaleTo_0_1_bs32_ps256'\n",
    "\n",
    "# experiment_planner_identifier = 'nnUNet_RGB_z_score_default'# this is a compatibility wrapper of the default\n",
    "# experiment_planner_identifier = 'nnUNet_RGB_z_score_default_bs2_ps1024' # this is a compatibility wrapper of the default\n",
    "# experiment_planner_identifier = 'nnUNet_RGB_scaleTo_0_1'\n",
    "# experiment_planner_identifier = 'nnUNet_RGB_scaleTo_0_1_bs2_ps1024'\n",
    "experiment_planner_identifier = 'nnUNet_RGB_scaleTo_0_1_bs8_ps512'\n",
    "# experiment_planner_identifier = 'nnUNet_RGB_scaleTo_0_1_bs32_ps256'"
   ]
  },
  {
   "cell_type": "markdown",
   "id": "860a80ba-0779-483e-82c1-27e11d63bf45",
   "metadata": {},
   "source": [
    "## Plan only"
   ]
  },
  {
   "cell_type": "markdown",
   "id": "f1292235-d69a-40e0-a9d6-9c40fd6890f5",
   "metadata": {},
   "source": [
    "I first want to plan only (only preprocessing), because after that I want to set the patch inpyt shape to 1024, 1024 manually. My rois' shapes are not consistent, and nnunet makes it 1024, 1280 automatically, which doesnt make sense in my opinion. And a square inputshape is more convenient for working whith wholeslidedata package later on (for WSI prediciont for example)"
   ]
  },
  {
   "cell_type": "code",
   "execution_count": 31,
   "id": "a939a412-bdc4-4f65-9165-ce5ac542c002",
   "metadata": {},
   "outputs": [
    {
     "data": {
      "text/plain": [
       "'--plan_only '"
      ]
     },
     "execution_count": 31,
     "metadata": {},
     "output_type": "execute_result"
    }
   ],
   "source": [
    "plan_only = True #True if you have a custom split already or if you want to set the input patch size by hand\n",
    "plan_only = \"--plan_only \" if plan_only==True else \"\"\n",
    "plan_only"
   ]
  },
  {
   "cell_type": "markdown",
   "id": "4213752f-789f-42c1-9965-63e70568b010",
   "metadata": {},
   "source": [
    "WE NOW NEED A DIFFERENT PLANNER, FOR SCALING BETWEEN 0 AND 1 INSTEAD OF ZSCORE"
   ]
  },
  {
   "cell_type": "code",
   "execution_count": 4,
   "id": "6dab11d2-6341-4cb1-9089-d6484026aa7e",
   "metadata": {},
   "outputs": [
    {
     "ename": "NameError",
     "evalue": "name 'docker' is not defined",
     "output_type": "error",
     "traceback": [
      "\u001b[0;31m---------------------------------------------------------------------------\u001b[0m",
      "\u001b[0;31mNameError\u001b[0m                                 Traceback (most recent call last)",
      "Input \u001b[0;32mIn [4]\u001b[0m, in \u001b[0;36m<cell line: 1>\u001b[0;34m()\u001b[0m\n\u001b[1;32m      1\u001b[0m train_command \u001b[38;5;241m=\u001b[39m \u001b[38;5;124mf\u001b[39m\u001b[38;5;124m\"\u001b[39m\u001b[38;5;124m~/c-submit --require-cpus=9 --require-mem=28g --gpu-count=1 \u001b[39m\u001b[38;5;130;01m\\\u001b[39;00m\n\u001b[1;32m      2\u001b[0m \u001b[38;5;124m--require-gpu-mem=11g --priority=high nadiehkhalili 9974 168 \u001b[39m\u001b[38;5;130;01m\\\u001b[39;00m\n\u001b[0;32m----> 3\u001b[0m \u001b[38;5;132;01m{\u001b[39;00mdocker\u001b[38;5;132;01m}\u001b[39;00m\u001b[38;5;124m nnunet plan_train \u001b[39m\u001b[38;5;130;01m\\\u001b[39;00m\n\u001b[1;32m      4\u001b[0m \u001b[38;5;132;01m{\u001b[39;00mplan_only\u001b[38;5;132;01m}\u001b[39;00m\u001b[38;5;130;01m\\\u001b[39;00m\n\u001b[1;32m      5\u001b[0m \u001b[38;5;132;01m{\u001b[39;00mtask_name\u001b[38;5;132;01m}\u001b[39;00m\u001b[38;5;124m \u001b[39m\u001b[38;5;130;01m\\\u001b[39;00m\n\u001b[1;32m      6\u001b[0m \u001b[38;5;132;01m{\u001b[39;00mnnUNet_base_linux\u001b[38;5;132;01m}\u001b[39;00m\u001b[38;5;124m \u001b[39m\u001b[38;5;130;01m\\\u001b[39;00m\n\u001b[1;32m      7\u001b[0m \u001b[38;5;124m--network 2d --planner3d None --planner2d \u001b[39m\u001b[38;5;132;01m{\u001b[39;00mexperiment_planner\u001b[38;5;132;01m}\u001b[39;00m\u001b[38;5;124m --plans \u001b[39m\u001b[38;5;132;01m{\u001b[39;00mexperiment_planner_identifier\u001b[38;5;132;01m}\u001b[39;00m\u001b[38;5;124m \u001b[39m\u001b[38;5;130;01m\\\u001b[39;00m\n\u001b[1;32m      8\u001b[0m \u001b[38;5;124m--trainer \u001b[39m\u001b[38;5;132;01m{\u001b[39;00mtrainer_name\u001b[38;5;132;01m}\u001b[39;00m\u001b[38;5;124m --fold 0\u001b[39m\u001b[38;5;124m\"\u001b[39m\n",
      "\u001b[0;31mNameError\u001b[0m: name 'docker' is not defined"
     ]
    }
   ],
   "source": [
    "train_command = f\"~/c-submit --require-cpus=9 --require-mem=28g --gpu-count=1 \\\n",
    "--require-gpu-mem=11g --priority=high nadiehkhalili 9974 168 \\\n",
    "{docker} nnunet plan_train \\\n",
    "{plan_only}\\\n",
    "{task_name} \\\n",
    "{nnUNet_base_linux} \\\n",
    "--network 2d --planner3d None --planner2d {experiment_planner} --plans {experiment_planner_identifier} \\\n",
    "--trainer {trainer_name} --fold 0\"\n"
   ]
  },
  {
   "cell_type": "code",
   "execution_count": 34,
   "id": "677bbd27-c237-442b-af05-a4362200e078",
   "metadata": {},
   "outputs": [
    {
     "data": {
      "text/plain": [
       "'~/c-submit --require-cpus=9 --require-mem=28g --gpu-count=1 --require-gpu-mem=11g --priority=low nadiehkhalili 9974 168 doduo1.umcn.nl/pathology_lung_til/nnunet:9.4-midl2023 nnunet plan_train --plan_only Task028_camelyon_uncertainty /data/pathology/projects/pathology-mrifuse --network 2d --planner3d None --planner2d ExperimentPlanner2D_v21_RGB_scaleTo_0_1_bs8_ps512 --plans nnUNet_RGB_scaleTo_0_1_bs8_ps512 --trainer nnUNetTrainerV2_BN --fold 0'"
      ]
     },
     "execution_count": 34,
     "metadata": {},
     "output_type": "execute_result"
    }
   ],
   "source": [
    "train_command"
   ]
  },
  {
   "cell_type": "markdown",
   "id": "dd52e830-8660-4c64-a0bd-383a6d4e2825",
   "metadata": {},
   "source": [
    "#### Run this in plan only mode (only for a single fold needed), after that come back to set the patch size manually, and add our own data split."
   ]
  },
  {
   "cell_type": "markdown",
   "id": "0cb62425-1148-4b5c-bc09-b7c99c2a5e70",
   "metadata": {},
   "source": [
    "## Manually set patch size"
   ]
  },
  {
   "cell_type": "code",
   "execution_count": null,
   "id": "7f54bca9-5968-4a88-a7ab-ab1c29330408",
   "metadata": {},
   "outputs": [],
   "source": [
    "import pickle \n",
    "\n",
    "def load_pickle(file: str, mode: str = 'rb'):\n",
    "    with open(file, mode) as f:\n",
    "        a = pickle.load(f)\n",
    "    return a\n",
    "\n",
    "def write_pickle(obj, file: str, mode: str = 'wb') -> None:\n",
    "    with open(file, mode) as f:\n",
    "        pickle.dump(obj, f)"
   ]
  },
  {
   "cell_type": "markdown",
   "id": "c19bd0c8-0e64-4e4e-b000-2e39f158821e",
   "metadata": {},
   "source": [
    "check and set to true"
   ]
  },
  {
   "cell_type": "code",
   "execution_count": null,
   "id": "b65c26b2-b096-4cb9-8481-c27f4cb68153",
   "metadata": {},
   "outputs": [],
   "source": [
    "print(train_command)\n",
    "nnUNet_data_root = convert_path(os.path.join(nnUNet_base, \"nnUNet_raw_data\"), to=current_os)\n",
    "sorted(os.listdir(nnUNet_data_root))"
   ]
  },
  {
   "cell_type": "code",
   "execution_count": 1,
   "id": "e08253a3-6615-41bf-8b00-e3b069cedd5d",
   "metadata": {},
   "outputs": [
    {
     "ename": "NameError",
     "evalue": "name 'os' is not defined",
     "output_type": "error",
     "traceback": [
      "\u001b[0;31m---------------------------------------------------------------------------\u001b[0m",
      "\u001b[0;31mNameError\u001b[0m                                 Traceback (most recent call last)",
      "Input \u001b[0;32mIn [1]\u001b[0m, in \u001b[0;36m<cell line: 1>\u001b[0;34m()\u001b[0m\n\u001b[0;32m----> 1\u001b[0m \u001b[43mos\u001b[49m\u001b[38;5;241m.\u001b[39mlistdir(os\u001b[38;5;241m.\u001b[39mpath\u001b[38;5;241m.\u001b[39mjoin(preprocessed_ROOT, task_name))\n",
      "\u001b[0;31mNameError\u001b[0m: name 'os' is not defined"
     ]
    }
   ],
   "source": [
    "os.listdir(os.path.join(preprocessed_ROOT, task_name))"
   ]
  },
  {
   "cell_type": "code",
   "execution_count": null,
   "id": "3de17f88-30aa-4a52-a3ac-c08d756c4ce6",
   "metadata": {},
   "outputs": [],
   "source": [
    "import os\n",
    "task_name = 'Task100_camelyon_uncertainty_100'\n",
    "experiment_planner_identifier = 'nnUNet_RGB_scaleTo_0_1_bs8_ps512'\n",
    "\n",
    "preprocessed_ROOT = convert_path('B:\\projects\\pathology-mrifuse//nnUNet_preprocessed', to=current_os)\n",
    "plans_pkl_path = os.path.join(preprocessed_ROOT, task_name, f\"{experiment_planner_identifier}_plans_2D.pkl\")\n",
    "# plans_pkl_path = '/data/pathology/projects/pathology-lung-TIL/nnUNet_raw_data_base/nnUNet_preprocessed/Task020_batch1_3_to_train_BN_bs8_ps512_stroma_merge/nnUNetPlansv2.1_plans_2D.pkl'\n",
    "print(plans_pkl_path)\n",
    "\n",
    "# LOAD\n",
    "plans_pkl = load_pickle(plans_pkl_path)\n",
    "\n",
    "# PRINT PREVIOUS:\n",
    "print(plans_pkl[\"plans_per_stage\"][0][\"patch_size\"])\n",
    "\n",
    "# EDIT\n",
    "plans_pkl[\"plans_per_stage\"][0][\"patch_size\"]=np.array([1024, 1024], dtype=np.int64) # we want square\n",
    "# plans_pkl[\"plans_per_stage\"][0][\"patch_size\"]=np.array([512, 512], dtype=np.int64)\n",
    "print(plans_pkl[\"plans_per_stage\"][0][\"patch_size\"])\n",
    "# SAVE\n",
    "write_pickle(plans_pkl, plans_pkl_path)"
   ]
  },
  {
   "cell_type": "code",
   "execution_count": null,
   "id": "2771a704-1019-4846-8995-13a1106818a7",
   "metadata": {},
   "outputs": [],
   "source": [
    "plans_pkl[\"plans_per_stage\"][0]['batch_size']"
   ]
  },
  {
   "cell_type": "markdown",
   "id": "41151fc9-e5ba-4b23-8183-053b18b29d9b",
   "metadata": {},
   "source": [
    "## Manually set data splits"
   ]
  },
  {
   "cell_type": "code",
   "execution_count": null,
   "id": "24ac00d1-6062-405b-9032-7d1384b9ddf7",
   "metadata": {},
   "outputs": [],
   "source": [
    "preprocessed_ROOT = r\"Z:\\projects\\pathology-mrifuse\\nnUNet_preprocessed\"\n",
    "preprocessed_ROOT = convert_path(preprocessed_ROOT, to=current_os)\n",
    "os.listdir(os.path.join(preprocessed_ROOT, task_name))"
   ]
  },
  {
   "cell_type": "code",
   "execution_count": null,
   "id": "0125cecc-bafb-4dd4-8cdf-ba878d592722",
   "metadata": {},
   "outputs": [],
   "source": [
    "data_split_json_path = os.path.join(preprocessed_ROOT, task_name, \"splits_final.json\")\n",
    "data_split_pkl_path = os.path.join(preprocessed_ROOT, task_name, \"splits_final.pkl\")"
   ]
  },
  {
   "cell_type": "code",
   "execution_count": null,
   "id": "baae1009-0036-4964-87c0-6a96d9d039fb",
   "metadata": {},
   "outputs": [],
   "source": [
    "data_split_json_path"
   ]
  },
  {
   "cell_type": "code",
   "execution_count": null,
   "id": "3baafbbb-01f5-44c1-8c41-3f6395359066",
   "metadata": {},
   "outputs": [],
   "source": [
    "import json \n",
    "with open(data_split_json_path, \"w\") as fp:\n",
    "    json.dump(fp=fp, obj=data_split_json)\n",
    "    save_pickle(data_split_json, data_split_pkl_path)"
   ]
  },
  {
   "cell_type": "markdown",
   "id": "df4621b0-f870-4876-8899-f49e280a4efd",
   "metadata": {
    "tags": []
   },
   "source": [
    "## Run all folds without plan only"
   ]
  },
  {
   "cell_type": "markdown",
   "id": "409303ab",
   "metadata": {},
   "source": [
    "### Copy output below\n",
    "remember to run all 5 folds. You can also train a single model on all training data by using --fold all"
   ]
  },
  {
   "cell_type": "code",
   "execution_count": null,
   "id": "c87cdde2-8b3e-4c48-a1c5-84f8d45bc606",
   "metadata": {},
   "outputs": [],
   "source": [
    "train_command = f\"~/c-submit --require-cpus=9 --require-mem=28g --gpu-count=1 \\\n",
    "--require-gpu-mem=11g --node=dlc-ditto --priority=high nadiehkhalili 9974 168 \\\n",
    "{docker} nnunet plan_train \\\n",
    "{task_name} \\\n",
    "{nnUNet_base_linux} \\\n",
    "--network 2d --planner3d None --planner2d {experiment_planner} --plans {experiment_planner_identifier} \\\n",
    "--trainer {trainer_name} --fold 0\"\n",
    "train_command"
   ]
  },
  {
   "cell_type": "code",
   "execution_count": null,
   "id": "8e3a1ab8-e678-43c4-a68d-f3c0460b7e3b",
   "metadata": {},
   "outputs": [],
   "source": [
    "~/c-submit --require-cpus=9 --require-mem=28g --gpu-count=1 --require-gpu-mem=11g --priority=low nadiehkhalili 9974 168 doduo1.umcn.nl/pathology_lung_til/nnunet:9.4-midl2023 nnunet plan_train Task026_test_Nadieh /data/pathology/projects/pathology-mrifuse --network 2d --planner3d None --planner2d ExperimentPlanner2D_v21_RGB_scaleTo_0_1_bs8_ps512 --plans nnUNet_RGB_scaleTo_0_1_bs8_ps512 --trainer nnUNetTrainerV2_BN_pathology_DA_hed005 --fold 0\n"
   ]
  },
  {
   "cell_type": "code",
   "execution_count": null,
   "id": "2787a10e-3a41-45bf-8d38-a6e94be58b42",
   "metadata": {},
   "outputs": [],
   "source": [
    "~/c-submit --require-cpus=9 --require-mem=28g --gpu-count=1 --require-gpu-mem=11g --priority=high nadiehkhalili 9974 168 doduo1.umcn.nl/pathology_lung_til/nnunet:9.4-midl2023 nnunet plan_train Task027_test_Nadieh /data/pathology/projects/pathology-mrifuse --network 2d --planner3d None --planner2d ExperimentPlanner2D_v21_RGB_scaleTo_0_1_bs8_ps512 -plans nnUNet_RGB_scaleTo_0_1_bs8_ps512_plans_2D --trainer nnUNetTrainerV2_BN_pathology_DA_hed005 --fold 0"
   ]
  },
  {
   "cell_type": "code",
   "execution_count": null,
   "id": "95dc5643-9612-411b-b9ee-bb4d0a3d7d72",
   "metadata": {},
   "outputs": [],
   "source": [
    "# train_command = f\"~/c-submit --require-cpus=9 --require-mem=28g --gpu-count=1 \\\n",
    "# --require-gpu-mem=11g --priority=low joeyspronck 9974 168 \\\n",
    "# {docker} nnunet plan_train \\\n",
    "# {task_name} \\\n",
    "# {nnUNet_base_linux} \\\n",
    "# --network 2d --planner3d None --planner2d ExperimentPlanner2D_v21_RGB_scaleTo_0_1 --plans nnUNet_RGB_scaleTo_0_1_patch_size_512 \\\n",
    "# --fold 0\"\n",
    "# train_command"
   ]
  },
  {
   "cell_type": "markdown",
   "id": "a136d849",
   "metadata": {},
   "source": [
    "Example"
   ]
  },
  {
   "cell_type": "code",
   "execution_count": null,
   "id": "e39da78b",
   "metadata": {},
   "outputs": [],
   "source": [
    "\"~/c-submit --require-cpus=9 --require-mem=28g --gpu-count=1 --require-gpu-mem=11g --priority=low francesco 9974 168 doduo1.umcn.nl/pathology_lung_til/nnunet:7.4-aug2-latest nnunet plan_train Task022_batch1_2_3_to_train_ROI_based_split /data/pathology/projects/pathology-lung-TIL/nnUNet_raw_data_base --network 2d --planner3d None --planner2d ExperimentPlanner2D_v21_RGB_scaleTo_0_1_bs8_ps512 --plans nnUNet_RGB_scaleTo_0_1_bs8_ps512 --trainer nnUNetTrainerV2_BN --fold 0\""
   ]
  },
  {
   "cell_type": "markdown",
   "id": "fe4e7c4c",
   "metadata": {
    "tags": []
   },
   "source": [
    "# TEST data"
   ]
  },
  {
   "cell_type": "markdown",
   "id": "b81a8fe8-b0c2-451a-a72e-de7a9f4e4825",
   "metadata": {},
   "source": [
    "### THIS IS NOT USED ANYMORE"
   ]
  },
  {
   "cell_type": "markdown",
   "id": "ed5f157c",
   "metadata": {},
   "source": [
    "### Check images and annotations"
   ]
  },
  {
   "cell_type": "code",
   "execution_count": null,
   "id": "ca9eb9c9-672c-4704-b01f-4902c746d09f",
   "metadata": {},
   "outputs": [],
   "source": [
    "image_anno_test = \n",
    "complete_counts_total = np.zeros(n_labels)\n",
    "for (i, a) in image_anno_test:\n",
    "    wsi = WholeSlideImage(i, backend='asap')\n",
    "    wsa = WholeSlideAnnotation(a, parser=parser)\n",
    "    s = os.path.split(a)[-1].split(\".\")[-2]\n",
    "    print(s)\n",
    "    for idx, anno in enumerate(wsa.sampling_annotations):\n",
    "        roi_patch = wsi.get_annotation(anno, 0.5)\n",
    "        print(list(reversed(roi_patch.shape[:2])))\n",
    "        mask_patch = label_sampler.sample(wsa, Point(anno.center), reversed(roi_patch.shape[:2]), ratio=2)\n",
    "        # if s == \"11445\":\n",
    "        #     mask_patch = label_sampler.sample(wsa, Point(anno.center), reversed(roi_patch.shape[:2]), ratio=1)\n",
    "\n",
    "        ######### FIGURE 1 #########           \n",
    "        ratio = [14, 1]\n",
    "        fig, axs = plt.subplots(1,4,figsize=(15,4),\n",
    "#                                     gridspec_kw={'width_ratios': [ratio[0], ratio[1], ratio[2]]})\n",
    "                                gridspec_kw={'width_ratios': [ratio[0], ratio[0], ratio[0], ratio[-1]]})\n",
    "        fig.suptitle(s+\"_ROI\"+str(idx), fontsize=15)\n",
    "\n",
    "        # ROI\n",
    "        axs[0].imshow(roi_patch)\n",
    "        axs[0].axis('off')\n",
    "        axs[0].set_title(\"ROI\")\n",
    "\n",
    "        # Ground truth tissue\n",
    "        axs[1].imshow(mask_patch, \n",
    "                        vmin=0, vmax=255, cmap=cmap, interpolation='nearest') \n",
    "        axs[1].axis('off')\n",
    "        axs[1].set_title(\"Ground truth tissue\")\n",
    "\n",
    "        # Overlay\n",
    "        axs[2].imshow(roi_patch)\n",
    "        axs[2].imshow(mask_patch, \n",
    "                        vmin=0, vmax=255, cmap=cmap, interpolation='nearest', alpha=0.5) \n",
    "        axs[2].axis('off')\n",
    "        axs[2].set_title(\"Overlay\")\n",
    "\n",
    "        # Labels                \n",
    "        axs[3].imshow([[i] for i in range(len(label_index))], \n",
    "                        vmin=0, vmax=255, cmap=cmap, interpolation='nearest')\n",
    "        axs[3].set_yticks(label_index) #, rotation=0, ha=\"right\", rotation_mode=\"anchor\")\n",
    "        axs[3].set_yticklabels(label_names)\n",
    "        axs[3].yaxis.tick_right()\n",
    "        axs[3].get_xaxis().set_visible(False)\n",
    "        axs[3].set_title(\"Labels\")\n",
    "\n",
    "        plt.tight_layout()\n",
    "        plt.show()\n",
    "\n",
    "        \n",
    "#         ######### FIGURE 2 #########   \n",
    "#         complete_counts = add_zero_classes(*np.unique(mask_patch, return_counts=True))\n",
    "        \n",
    "#         fig, axs = plt.subplots(1,1, figsize=(5,5))\n",
    "#         bar_list = axs.barh(label_names, complete_counts, height=1) #, height=0.95, log=True)\n",
    "#         for i, bar in enumerate(bar_list):\n",
    "#             bar.set_color(cmap(label_index[i]))\n",
    "#             bar.set_edgecolor(\"black\")\n",
    "#         axs.invert_yaxis()\n",
    "#         axs.set_title(\"Pixels per label total (x 100 000)\")\n",
    "#         for i in range(n_labels):\n",
    "#             plt.text(complete_counts[i], i, s=\" \" + str(round(complete_counts[i]/100000, 2)) if complete_counts[i] !=0.0 else \"\", \n",
    "#                      ha=\"left\", va=\"center\")\n",
    "#         axs.set_xlim(0, axs.get_xlim()[1] + axs.get_xlim()[1]*0.1)\n",
    "#         plt.ticklabel_format(style='sci', axis='x', scilimits=(0,0))\n",
    "#         plt.tight_layout()\n",
    "#         plt.show()\n",
    "        \n",
    "#         complete_counts_total += complete_counts\n",
    "\n",
    "# ######### FIGURE 3 #########  \n",
    "# print(\"Total\")\n",
    "# sum_total = sum(complete_counts_total)\n",
    "# percentages_total = [round((count/sum_total)*100,1) for count in complete_counts_total]\n",
    "# fig, axs = plt.subplots(1,1, figsize=(5,5))\n",
    "# bar_list = axs.barh(label_names, percentages_total, height=1) #, height=0.95, log=True)\n",
    "# for i, bar in enumerate(bar_list):\n",
    "#     bar.set_color(cmap(label_index[i]))\n",
    "#     bar.set_edgecolor(\"black\")\n",
    "# axs.invert_yaxis()\n",
    "# axs.set_title(\"Percentage of total per label\")\n",
    "# for i in range(n_labels):\n",
    "#     plt.text(percentages_total[i], i, s=\" \" + str(percentages_total[i]), \n",
    "#              ha=\"left\", va=\"center\")\n",
    "# axs.set_xlim(0, axs.get_xlim()[1] + axs.get_xlim()[1]*0.1)\n",
    "# plt.tight_layout()\n",
    "# plt.show()\n",
    "\n",
    "# #         plt.imshow(roi_patch)\n",
    "# #         plt.show()\n",
    "# #         plt.imshow(mask_patch, vmin=0, vmax=13, cmap=\"gnuplot\") \n",
    "# #         plt.show()    \n",
    "# print(\"DONE\")"
   ]
  },
  {
   "cell_type": "code",
   "execution_count": null,
   "id": "5a22f35e",
   "metadata": {},
   "outputs": [],
   "source": [
    "# for idx, (i, a) in enumerate(image_anno_test):\n",
    "#     wsi = WholeSlideImage(i)\n",
    "#     wsa = WholeSlideAnnotation(a, parser=parser)\n",
    "#     s = os.path.split(a)[-1].split(\".\")[-2]\n",
    "#     print(s) # s=stem\n",
    "#     for anno in wsa.sampling_annotations:\n",
    "#         roi_patch = wsi.get_annotation(anno, 0.5)\n",
    "#         print(list(reversed(roi_patch.shape[:2])))\n",
    "#         mask_patch = label_sampler.sample(wsa, Point(anno.center), reversed(roi_patch.shape[:2]), ratio=2)\n",
    "#         if s == \"11445\":\n",
    "#             mask_patch = label_sampler.sample(wsa, Point(anno.center), reversed(roi_patch.shape[:2]), ratio=1)\n",
    "\n",
    "#         plt.imshow(roi_patch)\n",
    "#         plt.show()\n",
    "#         plt.imshow(mask_patch, vmin=0, vmax=13, cmap=\"gnuplot\") \n",
    "#         plt.show()    \n",
    "# print(\"DONE\")"
   ]
  },
  {
   "cell_type": "markdown",
   "id": "52d0f596",
   "metadata": {},
   "source": [
    "# Create nnUNet dataset (TEST)"
   ]
  },
  {
   "cell_type": "markdown",
   "id": "20f2cb17-0c82-440b-81f0-fa789d1a7870",
   "metadata": {},
   "source": [
    "TASK NAME WAS SPECIFIED WEHEN MAKING TRAINING DATA"
   ]
  },
  {
   "cell_type": "code",
   "execution_count": null,
   "id": "dbe03fe6",
   "metadata": {},
   "outputs": [],
   "source": [
    "print(\"TASK:\\t\\t\", task_name)\n",
    "# print(\"nnUNet ROOT:\\t\\t\", nnUNet_base_linux)\n",
    "print(\"DATA ROOT:\\t\", nnUNet_data_root)\n",
    "print(\"TASK ROOT\\t\", task_root)\n",
    "test_image_folder = os.path.join(task_root, \"imagesTe\")\n",
    "print(\"TEST IMAGES\\t\", test_image_folder)\n",
    "test_label_folder = os.path.join(task_root, \"labelsTe\")\n",
    "print(\"TEST LABELS\\t\", test_label_folder)"
   ]
  },
  {
   "cell_type": "code",
   "execution_count": null,
   "id": "2ac6d37a",
   "metadata": {},
   "outputs": [],
   "source": [
    "# test_image_folder = os.path.join(task_root, \"imagesTe\")\n",
    "# test_label_folder = os.path.join(task_root, \"labelsTe\")"
   ]
  },
  {
   "cell_type": "markdown",
   "id": "d59aab9e",
   "metadata": {},
   "source": [
    "### Makedirs"
   ]
  },
  {
   "cell_type": "code",
   "execution_count": null,
   "id": "ff4d2980",
   "metadata": {},
   "outputs": [],
   "source": [
    "os.makedirs(test_image_folder)\n",
    "os.makedirs(test_label_folder)"
   ]
  },
  {
   "cell_type": "code",
   "execution_count": null,
   "id": "9b066fb4",
   "metadata": {},
   "outputs": [],
   "source": [
    "print(test_image_folder)\n",
    "print(test_label_folder)"
   ]
  },
  {
   "cell_type": "code",
   "execution_count": null,
   "id": "cb7ccc37",
   "metadata": {},
   "outputs": [],
   "source": [
    "for (i, a) in image_anno_test:\n",
    "    wsi = WholeSlideImage(i, backend='asap')\n",
    "    wsa = WholeSlideAnnotation(a, parser=parser)\n",
    "    s = os.path.split(a)[-1].split(\".\")[-2]\n",
    "    print(s) # s=stem\n",
    "    for idx, anno in enumerate(wsa.sampling_annotations):\n",
    "        roi_patch = wsi.get_annotation(anno, 0.5)\n",
    "        print(list(reversed(roi_patch.shape[:2])))\n",
    "        if True:\n",
    "        # if roi_patch.shape[0] < 3000:\n",
    "            mask_patch = label_sampler.sample(wsa, Point(anno.center), reversed(roi_patch.shape[:2]), ratio=2)\n",
    "            # if s == \"11445\":\n",
    "            #     mask_patch = label_sampler.sample(wsa, Point(anno.center), reversed(roi_patch.shape[:2]), ratio=1)\n",
    "\n",
    "            # MAKE OUTPUT\n",
    "            output_filename = s + \"_ROI\" + str(idx)\n",
    "            convert_2d_image_to_nifti(roi_patch, os.path.join(test_image_folder, output_filename))  \n",
    "            convert_2d_image_to_nifti(mask_patch, os.path.join(test_label_folder, output_filename), is_seg=True)\n",
    "            print(\"\\tnifti files created for roi\", idx)\n",
    "print(\"DONE\")"
   ]
  },
  {
   "cell_type": "markdown",
   "id": "3b69076b",
   "metadata": {},
   "source": [
    "# Run nnUNet TEST/INFERENCE job"
   ]
  },
  {
   "cell_type": "code",
   "execution_count": null,
   "id": "a773fabb",
   "metadata": {},
   "outputs": [],
   "source": [
    "print(\"TASK:\\t\\t\", task_name)\n",
    "# print(\"nnUNet ROOT:\\t\\t\", nnUNet_base_linux)\n",
    "print(\"DATA ROOT:\\t\", nnUNet_data_root)\n",
    "print(\"TASK ROOT\\t\", task_root)\n",
    "test_image_folder = os.path.join(task_root, \"imagesTe\")\n",
    "print(\"TEST IMAGES\\t\", test_image_folder)\n",
    "test_label_folder = os.path.join(task_root, \"labelsTe\")\n",
    "print(\"TEST LABELS\\t\", test_label_folder)"
   ]
  },
  {
   "cell_type": "code",
   "execution_count": null,
   "id": "818e4f94",
   "metadata": {},
   "outputs": [],
   "source": [
    "results_folder_linux = nnUNet_base_linux + \"/results\"\n",
    "test_image_folder_linux = convert_path(test_image_folder, to=\"l\")\n",
    "output_folder_linux = nnUNet_base_linux+\"/inference_results/\" + task_name"
   ]
  },
  {
   "cell_type": "markdown",
   "id": "4e0c913b",
   "metadata": {},
   "source": [
    "### Copy output below for ENSEMBLE"
   ]
  },
  {
   "cell_type": "code",
   "execution_count": null,
   "id": "3c3a3eb8",
   "metadata": {},
   "outputs": [],
   "source": [
    "test_image_folder_linux"
   ]
  },
  {
   "cell_type": "code",
   "execution_count": null,
   "id": "ba66ac4e",
   "metadata": {},
   "outputs": [],
   "source": [
    "# priority = \"high\"\n",
    "priority = \"low\""
   ]
  },
  {
   "cell_type": "code",
   "execution_count": null,
   "id": "415c6391-30a8-4d96-ac64-f708a11bee72",
   "metadata": {},
   "outputs": [],
   "source": [
    "inference_command = f\"./c-submit --require-cpus=4 --require-mem=28g --gpu-count=1 \\\n",
    "--require-gpu-mem=11g --priority={priority} joeyspronck 9974 72 \\\n",
    "doduo1.umcn.nl/nnunet/sol nnunet predict \\\n",
    "{task_name} \\\n",
    "--results {results_folder_linux} \\\n",
    "--input {test_image_folder_linux} \\\n",
    "--output {output_folder_linux} \\\n",
    "--checkpoint model_best \\\n",
    "--network 2d \\\n",
    "--store_probability_maps\"\n",
    "inference_command"
   ]
  },
  {
   "cell_type": "code",
   "execution_count": null,
   "id": "e0649521-0ac8-49e9-8ea6-4870e461559e",
   "metadata": {},
   "outputs": [],
   "source": []
  },
  {
   "cell_type": "code",
   "execution_count": null,
   "id": "4b3dc5f4-91e4-4bce-bafc-7b092bccd388",
   "metadata": {},
   "outputs": [],
   "source": []
  },
  {
   "cell_type": "markdown",
   "id": "b710db10",
   "metadata": {},
   "source": [
    "Example"
   ]
  },
  {
   "cell_type": "code",
   "execution_count": null,
   "id": "28615265",
   "metadata": {},
   "outputs": [],
   "source": [
    "'./c-submit --require-cpus=4 --require-mem=28g --gpu-count=1 --require-gpu-mem=11g --priority=high joeyspronck 9974 72 doduo1.umcn.nl/nnunet/sol nnunet predict Task003_Lung_tissue_segmentation_raw_ROIs_corrected --results /data/pathology/projects/pathology-lung-TIL/nnUNet_raw_data_base/results --input /data/pathology/projects/pathology-lung-TIL/nnUNet_raw_data_base/nnUNet_raw_data/Task003_Lung_tissue_segmentation_raw_ROIs_corrected/imagesTe --output /data/pathology/projects/pathology-lung-TIL/nnUNet_raw_data_base/inference_results/Task003_Lung_tissue_segmentation_raw_ROIs_corrected --checkpoint model_best --trainer nnUNetTrainerV2_Loss_CE_checkpoints --network 2d --store_probability_maps'"
   ]
  },
  {
   "cell_type": "markdown",
   "id": "e6a4980f",
   "metadata": {},
   "source": [
    "### If you want to run the single model (--fold all), or one of the folds (--fold 0, for example)"
   ]
  },
  {
   "cell_type": "code",
   "execution_count": null,
   "id": "90a89966",
   "metadata": {},
   "outputs": [],
   "source": [
    "# makedirs = True"
   ]
  },
  {
   "cell_type": "code",
   "execution_count": null,
   "id": "d19ded51",
   "metadata": {},
   "outputs": [],
   "source": [
    "names = ['FOLD_0', 'FOLD_1', 'FOLD_2', 'FOLD_3', 'FOLD_4', \"ALL\"]\n",
    "folds = [0, 1, 2, 3, 4, \"all\"]\n",
    "for (name, fold) in zip(names, folds):\n",
    "    print(name, '\\n')\n",
    "    output_folder_single_model_linux = nnUNet_base_linux+\"/inference_results/\" + task_name[:7] + f\"_{name}\" + task_name[7:]\n",
    "#     if makedirs:\n",
    "#         os.mkdir(convert_path(output_folder_single_model_linux, to=\"windows\")) # change this if ur linux\n",
    "    inference_command = f\"./c-submit --require-cpus=4 --require-mem=28g --gpu-count=1 \\\n",
    "--require-gpu-mem=11g --priority={priority} joeyspronck 9974 72 \\\n",
    "doduo1.umcn.nl/nnunet/sol nnunet predict \\\n",
    "{task_name} \\\n",
    "--results {results_folder_linux} \\\n",
    "--input {test_image_folder_linux} \\\n",
    "--output {output_folder_single_model_linux} \\\n",
    "--checkpoint model_best \\\n",
    "--trainer nnUNetTrainerV2_Loss_CE_checkpoints \\\n",
    "--network 2d \\\n",
    "--store_probability_maps \\\n",
    "--folds {fold}\"\n",
    "    print(inference_command, '\\n\\n\\n')"
   ]
  },
  {
   "cell_type": "code",
   "execution_count": null,
   "id": "46ea8aa9",
   "metadata": {},
   "outputs": [],
   "source": []
  },
  {
   "cell_type": "code",
   "execution_count": null,
   "id": "313191c8",
   "metadata": {},
   "outputs": [],
   "source": [
    "('ALL').split(\"/\")[-1]"
   ]
  },
  {
   "cell_type": "markdown",
   "id": "d3fc3612",
   "metadata": {},
   "source": [
    "test"
   ]
  },
  {
   "cell_type": "code",
   "execution_count": null,
   "id": "25f68f69",
   "metadata": {},
   "outputs": [],
   "source": [
    "# ~/c-submit --require-cpus=4 --require-mem=28g --gpu-count=1 --require-gpu-mem=11g --priority=low joeyspronck 9974 72 doduo1.umcn.nl/nnunet/sol nnunet predict Task002_Lung_tissue_segmentation_raw_ROIs --results /data/pathology/projects/pathology-lung-TIL/nnUNet_raw_data_base/results --input /data/pathology/projects/pathology-lung-TIL/nnUNet_raw_data_base/nnUNet_raw_data/Task002_Lung_tissue_segmentation_raw_ROIs/imagesTe --output /data/pathology/projects/pathology-lung-TIL/nnUNet_raw_data_base/inference_results/Task002_Lung_tissue_segmentation_raw_ROIs --checkpoint model_best --trainer nnUNetTrainerV2_Loss_CE_checkpoints --network 2d --store_probability_maps"
   ]
  },
  {
   "cell_type": "markdown",
   "id": "700424b9",
   "metadata": {},
   "source": [
    "train"
   ]
  },
  {
   "cell_type": "code",
   "execution_count": null,
   "id": "ddafa18f",
   "metadata": {},
   "outputs": [],
   "source": [
    "# ./c-submit --require-cpus=9 --require-mem=28g --gpu-count=1 --require-gpu-mem=11g --priority=low joeyspronck 9974 168 doduo1.umcn.nl/nnunet/sol nnunet plan_train Task002_Lung_tissue_segmentation_raw_ROIs /data/pathology/projects/pathology-mrifuse/nnUNet_raw_data_base --plan_2d --dont_plan_3d --network 2d --fold 0"
   ]
  },
  {
   "cell_type": "code",
   "execution_count": null,
   "id": "e2bd9fc4",
   "metadata": {},
   "outputs": [],
   "source": [
    "# For Inference\n",
    "#     ./c-submit --require-cpus=4 --require-mem=28g --gpu-count=1 \n",
    "#     --require-gpu-mem=11g --priority=low <username> <ticketnum> \n",
    "#     72 doduo1.umcn.nl/nnunet/sol  nnunet predict <Task_name> \n",
    "#\n",
    "#     --results <dir/to/results> \n",
    "#     --input <dir/to/test_img.nii.gz> \n",
    "#     --output <dir/to/otp> \n",
    "#     --checkpoint model_best \n",
    "#     --trainer nnUNetTrainerV2_Loss_CE_checkpoints \n",
    "#     --network 2d \n",
    "#     --store_probability_maps\n",
    "\n",
    "\n",
    "# Original:\n",
    "#     ./c-submit --require-cpus=4 --require-mem=28g --gpu-count=1 \n",
    "#     --require-gpu-mem=11g --priority=low nataliaalves 9765 72 \n",
    "#     doduo1.umcn.nl/joeran/prostate_nnunet nnunet predict Task100_Tumor\n",
    "\n",
    "#     --results /mnt/netcache/pelvis/projects/natalia/data/results \n",
    "#     --input /mnt/netcache/pelvis/projects/natalia/experiments/images_validation_folds/fold_0 \n",
    "#     --output /mnt/netcache/pelvis/projects/natalia/experiments/Task100_Tumor/fold_0/results_check_50 \n",
    "#     --folds 0 \n",
    "#     --checkpoint model_ep_050 \n",
    "#     --trainer nnUNetTrainerV2_Loss_CE_checkpoints \n",
    "#     --network 3d_fullres \n",
    "#     --store_probability_maps\n",
    "\n",
    "\n",
    "# Mine:\n",
    "#     ./c-submit --require-cpus=4 --require-mem=28g --gpu-count=1 \n",
    "#     --require-gpu-mem=11g --priority=low joeyspronck 9974 72 \n",
    "#     doduo1.umcn.nl/nnunet/sol nnunet predict \n",
    "    \n",
    "#     Task002_Lung_tissue_segmentation_raw_ROIs \n",
    "#     --results /data/pathology/projects/pathology-lung-TIL/nnUNet_raw_data_base/results\n",
    "#     --input /data/pathology/projects/pathology-lung-TIL/nnUNet_raw_data_base/nnUNet_raw_data/Task002_Lung_tissue_segmentation_raw_ROIs/imagesTe\n",
    "#     --output /data/pathology/projects/pathology-lung-TIL/nnUNet_raw_data_base/inference_results/Task002_Lung_tissue_segmentation_raw_ROIs\n",
    "#     --checkpoint model_best \n",
    "#     --trainer nnUNetTrainerV2_Loss_CE_checkpoints \n",
    "#     --network 2d \n",
    "#     --store_probability_maps\n",
    "\n",
    "\n",
    "# train:\n",
    "#     ./c-submit --require-cpus=9 --require-mem=28g --gpu-count=1 \n",
    "#     --require-gpu-mem=11g --priority=low joeyspronck 9974 168 \n",
    "#     doduo1.umcn.nl/nnunet/sol nnunet plan_train \n",
    "#     Task002_Lung_tissue_segmentation_raw_ROIs \n",
    "#     /data/pathology/projects/pathology-lung-TIL/nnUNet_raw_data_base \n",
    "#     --plan_2d --dont_plan_3d --network 2d --fold 0"
   ]
  },
  {
   "cell_type": "code",
   "execution_count": null,
   "id": "859557ec",
   "metadata": {},
   "outputs": [],
   "source": [
    "len(image_anno_train)"
   ]
  },
  {
   "cell_type": "code",
   "execution_count": null,
   "id": "f512714e",
   "metadata": {},
   "outputs": [],
   "source": [
    "len(image_anno_test)"
   ]
  },
  {
   "cell_type": "markdown",
   "id": "10ddb545",
   "metadata": {},
   "source": [
    ".\n",
    "\n",
    ".\n",
    "\n",
    ".\n",
    "# Other stuff"
   ]
  },
  {
   "cell_type": "code",
   "execution_count": null,
   "id": "e2ed7049",
   "metadata": {},
   "outputs": [],
   "source": [
    "# image_listdir = os.listdir(image_root)\n",
    "# anno_listdir = os.listdir(anno_root)\n",
    "# hardcoded_train_set = ['LI_S01_P000023_C0001_L01_A15.xml',\n",
    "#                        'LI_S01_P000036_C0001_L01_A15.xml',\n",
    "#                        'LI_S01_P000017_C0001_L01_A15.xml',\n",
    "#                        'LI_S01_P000040_C0001_L01_A15.xml',\n",
    "#                        'LI_S01_P000004_C0001_L01_A15.xml',\n",
    "#                        'LI_S01_P000022_C0001_L01_A15.xml',\n",
    "#                        'LI_S01_P000060_C0001_L01_A15.xml',\n",
    "#                        'LI_S01_P000059_C0001_L01_A15.xml',\n",
    "#                        'LI_S01_P000021_C0001_L01_A15.xml',\n",
    "#                        'LI_S01_P000018_C0001_L01_A15.xml',\n",
    "#                        'LI_S01_P000043_C0001_L01_A15.xml',\n",
    "#                        'LI_S01_P000019_C0001_L01_A15.xml']\n",
    "# anno_listdir_train = [anno for anno in anno_listdir if anno in hardcoded_train_set]\n",
    "# anno_listdir_test = [anno for anno in anno_listdir if anno not in hardcoded_train_set]\n",
    "# image_anno_test_temp = [[os.path.join(image_root, image), os.path.join(anno_root, anno), image.split(\".\")[0]] \\\n",
    "#               for image in image_listdir for anno in anno_listdir_test if image.split(\".\")[0] == anno.split(\".\")[0]]\n",
    "# straightforwards = [ia[1][-32:] for ia in image_anno_test_temp]\n",
    "# manual_annos = [os.path.join(anno_root, anno) for anno in anno_listdir_test if anno not in straightforwards]\n",
    "# manual_images = [\n",
    "#     r\"Z:\\archives\\lung\\NLST\\images_flat\\100012_11445.svs\",\n",
    "#     r\"X:\\archives\\lung\\immunotherapy_pilot\\images\\renamed_new_scans_tif\\LI_S01_P000001_C0001_L01_A15.tif\",\n",
    "#     r\"Y:\\users\\francesco\\for-myrthe\\LI_S01_P000015_C0001_L01_A15.mrxs\"    \n",
    "# ]\n",
    "# manual_stems = [\n",
    "#     \"11445\",\n",
    "#     \"LI_S01_P000001_C0001_L01_A15\",\n",
    "#     \"LI_S01_P000015_C0001_L01_A15\"    \n",
    "# ]\n",
    "# manuals = [list(ia) for ia in zip(manual_images, manual_annos, manual_stems)]\n",
    "# image_anno_test = image_anno_test_temp + manuals"
   ]
  },
  {
   "cell_type": "code",
   "execution_count": null,
   "id": "e4772bf9",
   "metadata": {},
   "outputs": [],
   "source": [
    "# S=\"solid\"\n",
    "# A=\"acinar\"\n",
    "# P=\"papillary\"\n",
    "# MP=\"micropapillary\"\n",
    "# L=\"lepidic\"\n",
    "# C=\"cribriform\"\n",
    "\n",
    "# morph = pd.DataFrame([[\"LI_S01_P000002_C0001_L01_A15\", \"adenocarcinoma\", (S, A)],\n",
    "#                       [\"LI_S01_P000004_C0001_L01_A15\", \"adenocarcinoma\", (L, A)],\n",
    "#                       [\"LI_S01_P000010_C0001_L01_A15\", \"squamous_cell_carcinoma\", ()],\n",
    "#                       [\"LI_S01_P000013_C0001_L01_A15\", \"adenocarcinoma\", (L, A)],\n",
    "#                       [\"LI_S01_P000015_C0001_L01_A15\", \"adenocarcinoma\", (A, MP)],\n",
    "#                       [\"LI_S01_P000017_C0001_L01_A15\", \"squamous_cell_carcinoma\", ()],\n",
    "#                       [\"LI_S01_P000018_C0001_L01_A15\", \"adenocarcinoma\", (A, L)],\n",
    "#                       [\"LI_S01_P000019_C0001_L01_A15\", \"adenocarcinoma\", (A, C)],\n",
    "#                       [\"LI_S01_P000021_C0001_L01_A15\", \"adenocarcinoma\", (S, MP)],\n",
    "#                       [\"LI_S01_P000022_C0001_L01_A15\", \"adenocarcinoma\", (A, S, L)],\n",
    "#                       [\"LI_S01_P000023_C0001_L01_A15\", \"squamous_cell_carcinoma\", ()],\n",
    "#                       ['LI_S01_P000029_C0001_L01_A15', \"adenocarcinoma\", (S)],\n",
    "#                       [\"LI_S01_P000036_C0001_L01_A15\", \"adenocarcinoma\", (A, MP)],\n",
    "#                       [\"LI_S01_P000040_C0001_L01_A15\", \"squamous_cell_carcinoma\", ()],\n",
    "#                       [\"LI_S01_P000043_C0001_L01_A15\", \"adenocarcinoma\", (S, A)],\n",
    "#                       [\"LI_S01_P000047_C0001_L01_A15\", \"squamous_cell_carcinoma\", ()],\n",
    "#                       [\"LI_S01_P000059_C0001_L01_A15\", \"squamous_cell_carcinoma\", ()],\n",
    "#                       [\"LI_S01_P000060_C0001_L01_A15\", \"squamous_cell_carcinoma\", ()]], \n",
    "#                      columns=[\"case_ID\", \"subtype\", \"growth_pattern\"])\n",
    "# # morph"
   ]
  },
  {
   "cell_type": "code",
   "execution_count": null,
   "id": "403579ab",
   "metadata": {},
   "outputs": [],
   "source": [
    "# image_anno_train_df = pd.DataFrame(image_anno_train, columns=[\"image\", \"annotation\", \"stem\"]) # image_anno_train"
   ]
  },
  {
   "cell_type": "code",
   "execution_count": null,
   "id": "2272f561",
   "metadata": {},
   "outputs": [],
   "source": [
    "# train_df = image_anno_train_df.merge(morph, left_on=\"stem\", right_on=\"case_ID\")"
   ]
  },
  {
   "cell_type": "markdown",
   "id": "f9135816",
   "metadata": {},
   "source": [
    "### Hardcoded train set\n",
    "image_root = r\"Z:\\archives\\lung\\immunotherapy_pilot\\all_images\" # Z = blissey\n",
    "\n",
    "anno_root = r\"Y:\\users\\francesco\\for-myrthe\\Checked by resident (Segmentation+TILS)\" # Y = pacpg\n",
    "\n",
    "[['LI_S01_P000023_C0001_L01_A15.tif', 'LI_S01_P000023_C0001_L01_A15.xml'],\n",
    "\n",
    " ['LI_S01_P000036_C0001_L01_A15.tif', 'LI_S01_P000036_C0001_L01_A15.xml'],\n",
    " \n",
    " ['LI_S01_P000017_C0001_L01_A15.tif', 'LI_S01_P000017_C0001_L01_A15.xml'],\n",
    " \n",
    " ['LI_S01_P000040_C0001_L01_A15.tif', 'LI_S01_P000040_C0001_L01_A15.xml'],\n",
    " \n",
    " ['LI_S01_P000004_C0001_L01_A15.tif', 'LI_S01_P000004_C0001_L01_A15.xml'],\n",
    " \n",
    " ['LI_S01_P000022_C0001_L01_A15.tif', 'LI_S01_P000022_C0001_L01_A15.xml'],\n",
    " \n",
    " ['LI_S01_P000060_C0001_L01_A15.tif', 'LI_S01_P000060_C0001_L01_A15.xml'],\n",
    " \n",
    " ['LI_S01_P000059_C0001_L01_A15.tif', 'LI_S01_P000059_C0001_L01_A15.xml'],\n",
    " \n",
    " ['LI_S01_P000021_C0001_L01_A15.tif', 'LI_S01_P000021_C0001_L01_A15.xml'],\n",
    " \n",
    " ['LI_S01_P000018_C0001_L01_A15.tif', 'LI_S01_P000018_C0001_L01_A15.xml'],\n",
    " \n",
    " ['LI_S01_P000043_C0001_L01_A15.tif', 'LI_S01_P000043_C0001_L01_A15.xml'],\n",
    " \n",
    " ['LI_S01_P000019_C0001_L01_A15.tif', 'LI_S01_P000019_C0001_L01_A15.xml']]\n",
    " "
   ]
  },
  {
   "cell_type": "code",
   "execution_count": null,
   "id": "953b5647",
   "metadata": {},
   "outputs": [],
   "source": [
    "image_anno_test"
   ]
  },
  {
   "cell_type": "markdown",
   "id": "7a9b29b9",
   "metadata": {},
   "source": [
    "# Make single res TRAIN set, not doable this way on 0.5 spacing"
   ]
  },
  {
   "cell_type": "code",
   "execution_count": null,
   "id": "1de1be1e",
   "metadata": {},
   "outputs": [],
   "source": [
    "# complete_counts_total = np.zeros(n_labels)\n",
    "for (i, a) in image_anno_train:\n",
    "    wsi = WholeSlideImage(i)\n",
    "    wsa = WholeSlideAnnotation(a, parser=parser)\n",
    "    s = os.path.split(a)[-1].split(\".\")[-2]\n",
    "    print(s)\n",
    "    break\n",
    "print(\"DONE\")"
   ]
  },
  {
   "cell_type": "code",
   "execution_count": null,
   "id": "a5575d6c",
   "metadata": {},
   "outputs": [],
   "source": [
    "convert_path(r'Z:\\users\\joey\\save_image_on_spacing_test\\LI_S01_P000023_C0001_L01_A15.tif', to=\"l\")"
   ]
  },
  {
   "cell_type": "code",
   "execution_count": null,
   "id": "2c1d746b",
   "metadata": {},
   "outputs": [],
   "source": [
    "from digitalpathology.scripts import "
   ]
  },
  {
   "cell_type": "code",
   "execution_count": null,
   "id": "66a3a8d8",
   "metadata": {},
   "outputs": [],
   "source": [
    "slide = wsi.get_slide(spacing=0.5)"
   ]
  },
  {
   "cell_type": "code",
   "execution_count": null,
   "id": "604bd106",
   "metadata": {},
   "outputs": [],
   "source": [
    "plt.imshow(slide)"
   ]
  },
  {
   "cell_type": "code",
   "execution_count": null,
   "id": "dd52bdee",
   "metadata": {
    "tags": []
   },
   "outputs": [],
   "source": [
    "complete_counts_total = np.zeros(n_labels)\n",
    "for (i, a) in image_anno_test:\n",
    "    wsi = WholeSlideImage(i)\n",
    "    wsa = WholeSlideAnnotation(a, parser=parser)\n",
    "    s = os.path.split(a)[-1].split(\".\")[-2]\n",
    "    print(s)\n",
    "    for idx, anno in enumerate(wsa.sampling_annotations):\n",
    "        roi_patch = wsi.get_annotation(anno, 0.5)\n",
    "        print(list(reversed(roi_patch.shape[:2])))\n",
    "        mask_patch = label_sampler.sample(wsa, Point(anno.center), reversed(roi_patch.shape[:2]), ratio=2)\n",
    "        if s == \"11445\":\n",
    "            mask_patch = label_sampler.sample(wsa, Point(anno.center), reversed(roi_patch.shape[:2]), ratio=1)\n",
    "\n",
    "        ######### FIGURE 1 #########           \n",
    "        ratio = [14, 2]\n",
    "        fig, axs = plt.subplots(1,4,figsize=(15,4),\n",
    "#                                     gridspec_kw={'width_ratios': [ratio[0], ratio[1], ratio[2]]})\n",
    "                                gridspec_kw={'width_ratios': [ratio[0], ratio[0], ratio[0], ratio[-1]]})\n",
    "        fig.suptitle(s+\"_ROI\"+str(idx), fontsize=15)\n",
    "\n",
    "        # ROI\n",
    "        axs[0].imshow(roi_patch)\n",
    "        axs[0].axis('off')\n",
    "        axs[0].set_title(\"ROI\")\n",
    "\n",
    "        # Ground truth tissue\n",
    "        axs[1].imshow(mask_patch, \n",
    "                        vmin=0, vmax=255, cmap=cmap, interpolation='nearest') \n",
    "        axs[1].axis('off')\n",
    "        axs[1].set_title(\"Ground truth tissue\")\n",
    "\n",
    "        # Overlay\n",
    "        axs[2].imshow(roi_patch)\n",
    "        axs[2].imshow(mask_patch, \n",
    "                        vmin=0, vmax=255, cmap=cmap, interpolation='nearest', alpha=0.5) \n",
    "        axs[2].axis('off')\n",
    "        axs[2].set_title(\"Overlay\")\n",
    "\n",
    "        # Labels                \n",
    "        axs[3].imshow([[i] for i in list(range(14))], \n",
    "                        vmin=0, vmax=255, cmap=cmap, interpolation='nearest')\n",
    "        axs[3].set_yticks(label_index) #, rotation=0, ha=\"right\", rotation_mode=\"anchor\")\n",
    "        axs[3].set_yticklabels(label_names)\n",
    "        axs[3].yaxis.tick_right()\n",
    "        axs[3].get_xaxis().set_visible(False)\n",
    "        axs[3].set_title(\"Labels\")\n",
    "\n",
    "        plt.tight_layout()\n",
    "        plt.show()\n",
    "\n",
    "        \n",
    "        ######### FIGURE 2 #########   \n",
    "        complete_counts = add_zero_classes(*np.unique(mask_patch, return_counts=True))\n",
    "        \n",
    "        fig, axs = plt.subplots(1,1, figsize=(5,5))\n",
    "        bar_list = axs.barh(label_names, complete_counts, height=1) #, height=0.95, log=True)\n",
    "        for i, bar in enumerate(bar_list):\n",
    "            bar.set_color(cmap(label_index[i]))\n",
    "            bar.set_edgecolor(\"black\")\n",
    "        axs.invert_yaxis()\n",
    "        axs.set_title(\"Pixels per label total (x 100 000)\")\n",
    "        for i in range(n_labels):\n",
    "            plt.text(complete_counts[i], i, s=\" \" + str(round(complete_counts[i]/100000, 2)) if complete_counts[i] !=0.0 else \"\", \n",
    "                     ha=\"left\", va=\"center\")\n",
    "        axs.set_xlim(0, axs.get_xlim()[1] + axs.get_xlim()[1]*0.1)\n",
    "        plt.ticklabel_format(style='sci', axis='x', scilimits=(0,0))\n",
    "        plt.tight_layout()\n",
    "        plt.show()\n",
    "        \n",
    "        complete_counts_total += complete_counts\n",
    "\n",
    "######### FIGURE 3 #########  \n",
    "print(\"Total\")\n",
    "sum_total = sum(complete_counts_total)\n",
    "percentages_total = [round((count/sum_total)*100,1) for count in complete_counts_total]\n",
    "fig, axs = plt.subplots(1,1, figsize=(5,5))\n",
    "bar_list = axs.barh(label_names, percentages_total, height=1) #, height=0.95, log=True)\n",
    "for i, bar in enumerate(bar_list):\n",
    "    bar.set_color(cmap(label_index[i]))\n",
    "    bar.set_edgecolor(\"black\")\n",
    "axs.invert_yaxis()\n",
    "axs.set_title(\"Percentage of total per label\")\n",
    "for i in range(n_labels):\n",
    "    plt.text(percentages_total[i], i, s=\" \" + str(percentages_total[i]), \n",
    "             ha=\"left\", va=\"center\")\n",
    "axs.set_xlim(0, axs.get_xlim()[1] + axs.get_xlim()[1]*0.1)\n",
    "plt.tight_layout()\n",
    "plt.show()\n",
    "\n",
    "#         plt.imshow(roi_patch)\n",
    "#         plt.show()\n",
    "#         plt.imshow(mask_patch, vmin=0, vmax=13, cmap=\"gnuplot\") \n",
    "#         plt.show()    \n",
    "print(\"DONE\")"
   ]
  }
 ],
 "metadata": {
  "kernelspec": {
   "display_name": "Python 3 (ipykernel)",
   "language": "python",
   "name": "python3"
  },
  "language_info": {
   "codemirror_mode": {
    "name": "ipython",
    "version": 3
   },
   "file_extension": ".py",
   "mimetype": "text/x-python",
   "name": "python",
   "nbconvert_exporter": "python",
   "pygments_lexer": "ipython3",
   "version": "3.9.0"
  }
 },
 "nbformat": 4,
 "nbformat_minor": 5
}
